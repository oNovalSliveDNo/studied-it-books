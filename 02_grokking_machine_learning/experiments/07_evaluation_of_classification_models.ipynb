{
 "cells": [
  {
   "cell_type": "markdown",
   "id": "43332e3f-bc5b-4d70-8daa-f0cbd4d42fe0",
   "metadata": {},
   "source": [
    "# Глава 7: Оценка классификационных моделей\n",
    "\n",
    "В этом ноутбуке мы применим на практике метрики качества классификации:\n",
    "- Достоверность (accuracy)\n",
    "- Матрицу неточностей (confusion matrix)\n",
    "- Точность (precision)\n",
    "- Полноту (recall)\n",
    "- F1-меру\n",
    "- ROC-кривую и AUC\n",
    "- Анализ влияния порога классификации\n",
    "\n",
    "Мы будем использовать два набора данных:\n",
    "- Диагностика коронавируса\n",
    "- Фильтрация спама\n",
    "\n",
    "Для простоты, предсказания моделей заданы вручную, как будто мы используем их как «чёрные ящики»."
   ]
  },
  {
   "cell_type": "code",
   "execution_count": 1,
   "id": "3db3274a-e8d3-4df1-a379-ad04150c8bf6",
   "metadata": {},
   "outputs": [],
   "source": [
    "import numpy as np\n",
    "import pandas as pd\n",
    "from sklearn.metrics import (\n",
    "    accuracy_score,\n",
    "    confusion_matrix,\n",
    "    precision_score,\n",
    "    recall_score,\n",
    "    f1_score,\n",
    "    auc\n",
    ")\n",
    "import matplotlib.pyplot as plt\n",
    "import seaborn as sns"
   ]
  },
  {
   "cell_type": "markdown",
   "id": "42b524e2-4e32-4da1-9bf5-0b3199b6d8fc",
   "metadata": {},
   "source": [
    "# 🧪 Данные: коронавирус"
   ]
  },
  {
   "cell_type": "code",
   "execution_count": 2,
   "id": "4a909871-899d-4898-8fc2-03fd2ed70c7b",
   "metadata": {},
   "outputs": [],
   "source": [
    "# Реальные метки коронавирусных данных\n",
    "true_labels_covid = (\n",
    "        [1] * 10 +  # 10 больных\n",
    "        [0] * 990  # 990 здоровых\n",
    ")\n",
    "\n",
    "# Коронавирусная модель 1\n",
    "# Предсказания модели: диагностирует всех как здоровых\n",
    "pred_labels_covid_1 = [0] * 1000\n",
    "\n",
    "# Коронавирусная модель 2\n",
    "# Предсказания: модель правильно диагностировала 8 из 10 больных и 942 из 990 здоровых\n",
    "# Значит, 2 ложных отрицания (больные классифицированы как здоровые)\n",
    "# и 48 ложных положений (здоровые классифицированы как больные)\n",
    "pred_labels_covid_2 = (\n",
    "        [1] * 8 +  # 8 TP\n",
    "        [0] * 2 +  # 2 FN\n",
    "        [1] * 48 +  # 48 FP\n",
    "        [0] * 942  # 942 TN\n",
    ")"
   ]
  },
  {
   "cell_type": "markdown",
   "id": "e8569736-9218-410f-a5f2-5c2b7ed13775",
   "metadata": {},
   "source": [
    "# ✅ Достоверность коронавирусных моделей"
   ]
  },
  {
   "cell_type": "code",
   "execution_count": 3,
   "id": "fb12e0c0-2652-4f96-9bfa-48e07cf5ae8a",
   "metadata": {},
   "outputs": [
    {
     "name": "stdout",
     "output_type": "stream",
     "text": [
      "✅ Достоверность (accuracy) коронавирус_1: 99.00%\n",
      "✅ Достоверность (accuracy) коронавирус_2: 95.00%\n"
     ]
    }
   ],
   "source": [
    "print(f\"✅ Достоверность (accuracy) коронавирус_1: {accuracy_score(true_labels_covid, pred_labels_covid_1):.2%}\")\n",
    "print(f\"✅ Достоверность (accuracy) коронавирус_2: {accuracy_score(true_labels_covid, pred_labels_covid_2):.2%}\")  "
   ]
  },
  {
   "cell_type": "markdown",
   "id": "3320ba71-65a8-45cd-99df-af7f6b951e29",
   "metadata": {},
   "source": [
    "# 🖼️ Матрица неточностей"
   ]
  },
  {
   "cell_type": "code",
   "execution_count": 4,
   "id": "5f90d4ab-6446-4ca3-beb7-5785929aa335",
   "metadata": {},
   "outputs": [],
   "source": [
    "def plot_conf_matrix(ax, cm, labels, title=\"Матрица неточностей\"):\n",
    "    sns.heatmap(cm, annot=True, fmt='d', cmap='Blues', xticklabels=labels, yticklabels=labels, ax=ax)\n",
    "    ax.set_xlabel(\"Предсказано\")\n",
    "    ax.set_ylabel(\"Истинное значение\")\n",
    "    ax.set_title(title)"
   ]
  },
  {
   "cell_type": "code",
   "execution_count": 5,
   "id": "c38b1e00-d1aa-4a0c-9c3a-c8e31c0592f8",
   "metadata": {},
   "outputs": [
    {
     "data": {
      "image/png": "[encoded data removed]",
      "text/plain": [
       "<Figure size 1000x400 with 4 Axes>"
      ]
     },
     "metadata": {},
     "output_type": "display_data"
    }
   ],
   "source": [
    "# Построение графиков\n",
    "fig, axes = plt.subplots(1, 2, figsize=(10, 4))  # 1 строка, 2 столбца\n",
    "\n",
    "cm1 = confusion_matrix(true_labels_covid, pred_labels_covid_1)\n",
    "cm2 = confusion_matrix(true_labels_covid, pred_labels_covid_2)\n",
    "\n",
    "plot_conf_matrix(axes[0], cm1, [\"Здоров\", \"Болен\"], title=\"Модель 1\")\n",
    "plot_conf_matrix(axes[1], cm2, [\"Здоров\", \"Болен\"], title=\"Модель 2\")\n",
    "\n",
    "plt.tight_layout()\n",
    "plt.show()"
   ]
  },
  {
   "cell_type": "markdown",
   "id": "11d2c5cf-a18a-4f6f-9115-2d6914945804",
   "metadata": {},
   "source": [
    "# 🔍 Полнота коронавирусных моделей "
   ]
  },
  {
   "cell_type": "code",
   "execution_count": 6,
   "id": "61fa8ed5-19f9-426b-93b7-6608d6e7fc6b",
   "metadata": {},
   "outputs": [
    {
     "name": "stdout",
     "output_type": "stream",
     "text": [
      "🔍 Полнота (recall) коронавирус_1: 0.00%\n",
      "🔍 Полнота (recall) коронавирус_2: 80.00%\n"
     ]
    }
   ],
   "source": [
    "print(f\"🔍 Полнота (recall) коронавирус_1: {recall_score(true_labels_covid, pred_labels_covid_1):.2%}\")\n",
    "print(f\"🔍 Полнота (recall) коронавирус_2: {recall_score(true_labels_covid, pred_labels_covid_2):.2%}\")"
   ]
  },
  {
   "cell_type": "markdown",
   "id": "007406b7-2ba0-426a-84b3-5a577e0da300",
   "metadata": {},
   "source": [
    "# 📧 Данные: спам-фильтр"
   ]
  },
  {
   "cell_type": "code",
   "execution_count": 7,
   "id": "3b8ec045-f5b2-4766-a75b-00b93231254f",
   "metadata": {},
   "outputs": [],
   "source": [
    "# 40 спамов, 60 полезных писем\n",
    "true_labels_spam = (\n",
    "    [1]*40 + \n",
    "    [0]*60\n",
    ")\n",
    "\n",
    "# Модель допустила 5 ложноположительных и 10 ложноотрицательных\n",
    "pred_labels_spam_1 = (\n",
    "    [1]*30 + [0]*10 +  # 30 спамов правильно, 10 — пропустили\n",
    "    [1]*5 + [0]*55    # 5 полезных ошибочно удалены, остальные ОК\n",
    ")\n",
    "\n",
    "# Модель допустила 10 ложноположительных и 5 ложноотрицательных\n",
    "pred_labels_spam_2 = (\n",
    "    [1]*35 + [0]*5 +  # 35 спамов правильно, 5 — пропустили\n",
    "    [1]*10 + [0]*50    # 10 полезных ошибочно удалены, остальные ОК\n",
    ")"
   ]
  },
  {
   "cell_type": "markdown",
   "id": "91cb0459-d936-4470-8d0e-76bae8b44a07",
   "metadata": {},
   "source": [
    "# ✅ Достоверность моделей спам-фильтров"
   ]
  },
  {
   "cell_type": "code",
   "execution_count": 8,
   "id": "1d0680b2-fb3e-4427-8da6-5a0c53e054d5",
   "metadata": {},
   "outputs": [
    {
     "name": "stdout",
     "output_type": "stream",
     "text": [
      "✅ Достоверность (accuracy) спам-фильтра_1: 85.00%\n",
      "✅ Достоверность (accuracy) спам-фильтра_2: 85.00%\n"
     ]
    }
   ],
   "source": [
    "print(f\"✅ Достоверность (accuracy) спам-фильтра_1: {accuracy_score(true_labels_spam, pred_labels_spam_1):.2%}\")\n",
    "print(f\"✅ Достоверность (accuracy) спам-фильтра_2: {accuracy_score(true_labels_spam, pred_labels_spam_2):.2%}\")"
   ]
  },
  {
   "cell_type": "code",
   "execution_count": 9,
   "id": "ca9c0f09-542a-4e52-b840-a037db527403",
   "metadata": {},
   "outputs": [
    {
     "data": {
      "image/png": "[encoded data removed]",
      "text/plain": [
       "<Figure size 1000x400 with 4 Axes>"
      ]
     },
     "metadata": {},
     "output_type": "display_data"
    }
   ],
   "source": [
    "# Построение графиков\n",
    "fig, axes = plt.subplots(1, 2, figsize=(10, 4))  # 1 строка, 2 столбца\n",
    "\n",
    "cm1 = confusion_matrix(true_labels_spam, pred_labels_spam_1)\n",
    "cm2 = confusion_matrix(true_labels_spam, pred_labels_spam_2)\n",
    "\n",
    "plot_conf_matrix(axes[0], cm1, [\"Полезное\", \"Спам\"], title=\"Модель 1\")\n",
    "plot_conf_matrix(axes[1], cm2, [\"Полезное\", \"Спам\"], title=\"Модель 2\")\n",
    "\n",
    "plt.tight_layout()\n",
    "plt.show()"
   ]
  },
  {
   "cell_type": "markdown",
   "id": "4a22b30d-175d-4d00-b3d8-7b66128c211b",
   "metadata": {},
   "source": [
    "# 🎯 Точность моделей спам-фильтров"
   ]
  },
  {
   "cell_type": "code",
   "execution_count": 10,
   "id": "c8c1c951-755e-48e9-88b0-22d9d25c8e3d",
   "metadata": {},
   "outputs": [
    {
     "name": "stdout",
     "output_type": "stream",
     "text": [
      "🎯 Точность (precision) спам-фильтра_1: 85.71%\n",
      "🎯 Точность (precision) спам-фильтра_2: 77.78%\n"
     ]
    }
   ],
   "source": [
    "print(f\"🎯 Точность (precision) спам-фильтра_1: {precision_score(true_labels_spam, pred_labels_spam_1):.2%}\")\n",
    "print(f\"🎯 Точность (precision) спам-фильтра_2: {precision_score(true_labels_spam, pred_labels_spam_2):.2%}\")"
   ]
  },
  {
   "cell_type": "markdown",
   "id": "d222b820-6780-47fe-aaa5-94ca1ce70b28",
   "metadata": {},
   "source": [
    "# 📏 Fβ-мера"
   ]
  },
  {
   "cell_type": "code",
   "execution_count": 11,
   "id": "664e4bbd-ff97-4cd7-bb61-37625f5a9871",
   "metadata": {},
   "outputs": [],
   "source": [
    "def f_betta(p, r, betta):\n",
    "    return ((1 + betta**2) * p * r) / (betta**2 * p + r)"
   ]
  },
  {
   "cell_type": "code",
   "execution_count": 12,
   "id": "057f6bad-198d-494c-ab2f-934bc4c0e5c0",
   "metadata": {},
   "outputs": [],
   "source": [
    "# Создаем три случая для анализа\n",
    "cases = [\n",
    "    {\"p\": 0.2, \"r\": 0.8, \"color\": \"blue\", \"title\": \"[P = 0.2 | R = 0.8]\"},\n",
    "    {\"p\": 0.6, \"r\": 0.6, \"color\": \"blue\", \"title\": \"[P = R = 0.6]\"},\n",
    "    {\"p\": 0.8, \"r\": 0.2, \"color\": \"blue\", \"title\": \"[P = 0.8 | R = 0.2]\"}\n",
    "]\n",
    "\n",
    "# Диапазон значений Beta\n",
    "bettas = np.arange(0.0, 70.1, 0.3)"
   ]
  },
  {
   "cell_type": "code",
   "execution_count": 13,
   "id": "7d4d2405-93cc-4aa0-b463-23d0f05106bb",
   "metadata": {},
   "outputs": [
    {
     "name": "stdout",
     "output_type": "stream",
     "text": [
      "\n",
      "=== Случай 1: [P = 0.2 | R = 0.8] ===\n"
     ]
    },
    {
     "data": {
      "text/html": [
       "<div>\n",
       "<style scoped>\n",
       "    .dataframe tbody tr th:only-of-type {\n",
       "        vertical-align: middle;\n",
       "    }\n",
       "\n",
       "    .dataframe tbody tr th {\n",
       "        vertical-align: top;\n",
       "    }\n",
       "\n",
       "    .dataframe thead th {\n",
       "        text-align: right;\n",
       "    }\n",
       "</style>\n",
       "<table border=\"1\" class=\"dataframe\">\n",
       "  <thead>\n",
       "    <tr style=\"text-align: right;\">\n",
       "      <th></th>\n",
       "      <th>Beta</th>\n",
       "      <th>F_beta</th>\n",
       "      <th>Precision</th>\n",
       "      <th>Recall</th>\n",
       "    </tr>\n",
       "  </thead>\n",
       "  <tbody>\n",
       "    <tr>\n",
       "      <th>0</th>\n",
       "      <td>0.0</td>\n",
       "      <td>0.200</td>\n",
       "      <td>0.2</td>\n",
       "      <td>0.8</td>\n",
       "    </tr>\n",
       "    <tr>\n",
       "      <th>1</th>\n",
       "      <td>0.3</td>\n",
       "      <td>0.213</td>\n",
       "      <td>0.2</td>\n",
       "      <td>0.8</td>\n",
       "    </tr>\n",
       "    <tr>\n",
       "      <th>2</th>\n",
       "      <td>0.6</td>\n",
       "      <td>0.250</td>\n",
       "      <td>0.2</td>\n",
       "      <td>0.8</td>\n",
       "    </tr>\n",
       "    <tr>\n",
       "      <th>3</th>\n",
       "      <td>0.9</td>\n",
       "      <td>0.301</td>\n",
       "      <td>0.2</td>\n",
       "      <td>0.8</td>\n",
       "    </tr>\n",
       "    <tr>\n",
       "      <th>4</th>\n",
       "      <td>1.2</td>\n",
       "      <td>0.359</td>\n",
       "      <td>0.2</td>\n",
       "      <td>0.8</td>\n",
       "    </tr>\n",
       "    <tr>\n",
       "      <th>...</th>\n",
       "      <td>...</td>\n",
       "      <td>...</td>\n",
       "      <td>...</td>\n",
       "      <td>...</td>\n",
       "    </tr>\n",
       "    <tr>\n",
       "      <th>229</th>\n",
       "      <td>68.7</td>\n",
       "      <td>0.799</td>\n",
       "      <td>0.2</td>\n",
       "      <td>0.8</td>\n",
       "    </tr>\n",
       "    <tr>\n",
       "      <th>230</th>\n",
       "      <td>69.0</td>\n",
       "      <td>0.799</td>\n",
       "      <td>0.2</td>\n",
       "      <td>0.8</td>\n",
       "    </tr>\n",
       "    <tr>\n",
       "      <th>231</th>\n",
       "      <td>69.3</td>\n",
       "      <td>0.800</td>\n",
       "      <td>0.2</td>\n",
       "      <td>0.8</td>\n",
       "    </tr>\n",
       "    <tr>\n",
       "      <th>232</th>\n",
       "      <td>69.6</td>\n",
       "      <td>0.800</td>\n",
       "      <td>0.2</td>\n",
       "      <td>0.8</td>\n",
       "    </tr>\n",
       "    <tr>\n",
       "      <th>233</th>\n",
       "      <td>69.9</td>\n",
       "      <td>0.800</td>\n",
       "      <td>0.2</td>\n",
       "      <td>0.8</td>\n",
       "    </tr>\n",
       "  </tbody>\n",
       "</table>\n",
       "<p>234 rows × 4 columns</p>\n",
       "</div>"
      ],
      "text/plain": [
       "     Beta  F_beta  Precision  Recall\n",
       "0     0.0   0.200        0.2     0.8\n",
       "1     0.3   0.213        0.2     0.8\n",
       "2     0.6   0.250        0.2     0.8\n",
       "3     0.9   0.301        0.2     0.8\n",
       "4     1.2   0.359        0.2     0.8\n",
       "..    ...     ...        ...     ...\n",
       "229  68.7   0.799        0.2     0.8\n",
       "230  69.0   0.799        0.2     0.8\n",
       "231  69.3   0.800        0.2     0.8\n",
       "232  69.6   0.800        0.2     0.8\n",
       "233  69.9   0.800        0.2     0.8\n",
       "\n",
       "[234 rows x 4 columns]"
      ]
     },
     "metadata": {},
     "output_type": "display_data"
    },
    {
     "name": "stdout",
     "output_type": "stream",
     "text": [
      "\n",
      "=== Случай 2: [P = R = 0.6] ===\n"
     ]
    },
    {
     "data": {
      "text/html": [
       "<div>\n",
       "<style scoped>\n",
       "    .dataframe tbody tr th:only-of-type {\n",
       "        vertical-align: middle;\n",
       "    }\n",
       "\n",
       "    .dataframe tbody tr th {\n",
       "        vertical-align: top;\n",
       "    }\n",
       "\n",
       "    .dataframe thead th {\n",
       "        text-align: right;\n",
       "    }\n",
       "</style>\n",
       "<table border=\"1\" class=\"dataframe\">\n",
       "  <thead>\n",
       "    <tr style=\"text-align: right;\">\n",
       "      <th></th>\n",
       "      <th>Beta</th>\n",
       "      <th>F_beta</th>\n",
       "      <th>Precision</th>\n",
       "      <th>Recall</th>\n",
       "    </tr>\n",
       "  </thead>\n",
       "  <tbody>\n",
       "    <tr>\n",
       "      <th>0</th>\n",
       "      <td>0.0</td>\n",
       "      <td>0.6</td>\n",
       "      <td>0.6</td>\n",
       "      <td>0.6</td>\n",
       "    </tr>\n",
       "    <tr>\n",
       "      <th>1</th>\n",
       "      <td>0.3</td>\n",
       "      <td>0.6</td>\n",
       "      <td>0.6</td>\n",
       "      <td>0.6</td>\n",
       "    </tr>\n",
       "    <tr>\n",
       "      <th>2</th>\n",
       "      <td>0.6</td>\n",
       "      <td>0.6</td>\n",
       "      <td>0.6</td>\n",
       "      <td>0.6</td>\n",
       "    </tr>\n",
       "    <tr>\n",
       "      <th>3</th>\n",
       "      <td>0.9</td>\n",
       "      <td>0.6</td>\n",
       "      <td>0.6</td>\n",
       "      <td>0.6</td>\n",
       "    </tr>\n",
       "    <tr>\n",
       "      <th>4</th>\n",
       "      <td>1.2</td>\n",
       "      <td>0.6</td>\n",
       "      <td>0.6</td>\n",
       "      <td>0.6</td>\n",
       "    </tr>\n",
       "    <tr>\n",
       "      <th>...</th>\n",
       "      <td>...</td>\n",
       "      <td>...</td>\n",
       "      <td>...</td>\n",
       "      <td>...</td>\n",
       "    </tr>\n",
       "    <tr>\n",
       "      <th>229</th>\n",
       "      <td>68.7</td>\n",
       "      <td>0.6</td>\n",
       "      <td>0.6</td>\n",
       "      <td>0.6</td>\n",
       "    </tr>\n",
       "    <tr>\n",
       "      <th>230</th>\n",
       "      <td>69.0</td>\n",
       "      <td>0.6</td>\n",
       "      <td>0.6</td>\n",
       "      <td>0.6</td>\n",
       "    </tr>\n",
       "    <tr>\n",
       "      <th>231</th>\n",
       "      <td>69.3</td>\n",
       "      <td>0.6</td>\n",
       "      <td>0.6</td>\n",
       "      <td>0.6</td>\n",
       "    </tr>\n",
       "    <tr>\n",
       "      <th>232</th>\n",
       "      <td>69.6</td>\n",
       "      <td>0.6</td>\n",
       "      <td>0.6</td>\n",
       "      <td>0.6</td>\n",
       "    </tr>\n",
       "    <tr>\n",
       "      <th>233</th>\n",
       "      <td>69.9</td>\n",
       "      <td>0.6</td>\n",
       "      <td>0.6</td>\n",
       "      <td>0.6</td>\n",
       "    </tr>\n",
       "  </tbody>\n",
       "</table>\n",
       "<p>234 rows × 4 columns</p>\n",
       "</div>"
      ],
      "text/plain": [
       "     Beta  F_beta  Precision  Recall\n",
       "0     0.0     0.6        0.6     0.6\n",
       "1     0.3     0.6        0.6     0.6\n",
       "2     0.6     0.6        0.6     0.6\n",
       "3     0.9     0.6        0.6     0.6\n",
       "4     1.2     0.6        0.6     0.6\n",
       "..    ...     ...        ...     ...\n",
       "229  68.7     0.6        0.6     0.6\n",
       "230  69.0     0.6        0.6     0.6\n",
       "231  69.3     0.6        0.6     0.6\n",
       "232  69.6     0.6        0.6     0.6\n",
       "233  69.9     0.6        0.6     0.6\n",
       "\n",
       "[234 rows x 4 columns]"
      ]
     },
     "metadata": {},
     "output_type": "display_data"
    },
    {
     "name": "stdout",
     "output_type": "stream",
     "text": [
      "\n",
      "=== Случай 3: [P = 0.8 | R = 0.2] ===\n"
     ]
    },
    {
     "data": {
      "text/html": [
       "<div>\n",
       "<style scoped>\n",
       "    .dataframe tbody tr th:only-of-type {\n",
       "        vertical-align: middle;\n",
       "    }\n",
       "\n",
       "    .dataframe tbody tr th {\n",
       "        vertical-align: top;\n",
       "    }\n",
       "\n",
       "    .dataframe thead th {\n",
       "        text-align: right;\n",
       "    }\n",
       "</style>\n",
       "<table border=\"1\" class=\"dataframe\">\n",
       "  <thead>\n",
       "    <tr style=\"text-align: right;\">\n",
       "      <th></th>\n",
       "      <th>Beta</th>\n",
       "      <th>F_beta</th>\n",
       "      <th>Precision</th>\n",
       "      <th>Recall</th>\n",
       "    </tr>\n",
       "  </thead>\n",
       "  <tbody>\n",
       "    <tr>\n",
       "      <th>0</th>\n",
       "      <td>0.0</td>\n",
       "      <td>0.800</td>\n",
       "      <td>0.8</td>\n",
       "      <td>0.2</td>\n",
       "    </tr>\n",
       "    <tr>\n",
       "      <th>1</th>\n",
       "      <td>0.3</td>\n",
       "      <td>0.641</td>\n",
       "      <td>0.8</td>\n",
       "      <td>0.2</td>\n",
       "    </tr>\n",
       "    <tr>\n",
       "      <th>2</th>\n",
       "      <td>0.6</td>\n",
       "      <td>0.446</td>\n",
       "      <td>0.8</td>\n",
       "      <td>0.2</td>\n",
       "    </tr>\n",
       "    <tr>\n",
       "      <th>3</th>\n",
       "      <td>0.9</td>\n",
       "      <td>0.342</td>\n",
       "      <td>0.8</td>\n",
       "      <td>0.2</td>\n",
       "    </tr>\n",
       "    <tr>\n",
       "      <th>4</th>\n",
       "      <td>1.2</td>\n",
       "      <td>0.289</td>\n",
       "      <td>0.8</td>\n",
       "      <td>0.2</td>\n",
       "    </tr>\n",
       "    <tr>\n",
       "      <th>...</th>\n",
       "      <td>...</td>\n",
       "      <td>...</td>\n",
       "      <td>...</td>\n",
       "      <td>...</td>\n",
       "    </tr>\n",
       "    <tr>\n",
       "      <th>229</th>\n",
       "      <td>68.7</td>\n",
       "      <td>0.200</td>\n",
       "      <td>0.8</td>\n",
       "      <td>0.2</td>\n",
       "    </tr>\n",
       "    <tr>\n",
       "      <th>230</th>\n",
       "      <td>69.0</td>\n",
       "      <td>0.200</td>\n",
       "      <td>0.8</td>\n",
       "      <td>0.2</td>\n",
       "    </tr>\n",
       "    <tr>\n",
       "      <th>231</th>\n",
       "      <td>69.3</td>\n",
       "      <td>0.200</td>\n",
       "      <td>0.8</td>\n",
       "      <td>0.2</td>\n",
       "    </tr>\n",
       "    <tr>\n",
       "      <th>232</th>\n",
       "      <td>69.6</td>\n",
       "      <td>0.200</td>\n",
       "      <td>0.8</td>\n",
       "      <td>0.2</td>\n",
       "    </tr>\n",
       "    <tr>\n",
       "      <th>233</th>\n",
       "      <td>69.9</td>\n",
       "      <td>0.200</td>\n",
       "      <td>0.8</td>\n",
       "      <td>0.2</td>\n",
       "    </tr>\n",
       "  </tbody>\n",
       "</table>\n",
       "<p>234 rows × 4 columns</p>\n",
       "</div>"
      ],
      "text/plain": [
       "     Beta  F_beta  Precision  Recall\n",
       "0     0.0   0.800        0.8     0.2\n",
       "1     0.3   0.641        0.8     0.2\n",
       "2     0.6   0.446        0.8     0.2\n",
       "3     0.9   0.342        0.8     0.2\n",
       "4     1.2   0.289        0.8     0.2\n",
       "..    ...     ...        ...     ...\n",
       "229  68.7   0.200        0.8     0.2\n",
       "230  69.0   0.200        0.8     0.2\n",
       "231  69.3   0.200        0.8     0.2\n",
       "232  69.6   0.200        0.8     0.2\n",
       "233  69.9   0.200        0.8     0.2\n",
       "\n",
       "[234 rows x 4 columns]"
      ]
     },
     "metadata": {},
     "output_type": "display_data"
    },
    {
     "data": {
      "image/png": "[encoded data removed]",
      "text/plain": [
       "<Figure size 1800x500 with 3 Axes>"
      ]
     },
     "metadata": {},
     "output_type": "display_data"
    }
   ],
   "source": [
    "# Создаем фигуру для графиков\n",
    "plt.figure(figsize=(18, 5))\n",
    "\n",
    "for i, case in enumerate(cases, 1):\n",
    "    p, r = case[\"p\"], case[\"r\"]\n",
    "    \n",
    "    # Создаем DataFrame\n",
    "    df = pd.DataFrame({\n",
    "        'Beta': bettas,\n",
    "        'F_beta': [round(f_betta(p, r, betta), 3) for betta in bettas],\n",
    "        'Precision': p,\n",
    "        'Recall': r\n",
    "    })\n",
    "    \n",
    "    # Выводим DataFrame\n",
    "    print(f\"\\n=== Случай {i}: {case['title']} ===\")\n",
    "    display(df)\n",
    "    \n",
    "    # Строим график\n",
    "    plt.subplot(1, 3, i)\n",
    "    plt.plot(df['Beta'], df['F_beta'], label=f'F_beta (P={p}, R={r})', color=case[\"color\"])\n",
    "    plt.axhline(y=p, color='red', linestyle='--', label=f'Precision (P={p})')\n",
    "    plt.axhline(y=r, color='green', linestyle='--', label=f'Recall (R={r})')\n",
    "\n",
    "    # Добавляем точку F1-меры (beta=1)\n",
    "    f1_score = f_betta(p, r, 1)\n",
    "    plt.scatter(1, f1_score, color='black', zorder=5)\n",
    "    plt.text(1, f1_score + 0.05, f'F1={f1_score:.2f}', ha='center', fontsize=10, bbox=dict(facecolor='white', alpha=0.8))\n",
    "    \n",
    "    # Настройки графика\n",
    "    plt.xlabel('Beta')\n",
    "    plt.ylabel('Score')\n",
    "    plt.title(case[\"title\"])\n",
    "    plt.legend()\n",
    "    plt.xlim(0, 25)\n",
    "    plt.ylim(0, 1)\n",
    "    plt.grid()\n",
    "\n",
    "plt.tight_layout()  # Чтобы графики не накладывались\n",
    "plt.show()"
   ]
  },
  {
   "cell_type": "markdown",
   "id": "1e1d00ab-7435-48b6-99d1-7ec27f089f44",
   "metadata": {},
   "source": [
    "# 📈 Анализ чувствительности (Recall), избирательности (Specificity) и ROC-кривой\n",
    "\n",
    "Мы создадим DataFrame с этапами порогов, извлечем из него чувствительность и избирательность, а затем построим ROC-кривую.\n",
    "\n",
    "* **Чувствительность (TPR)** — вероятность корректного распознавания положительных классов.\n",
    "* **Избирательность (TNR)** — вероятность корректного распознавания отрицательных классов.\n",
    "* **ROC-кривая** — показывает компромисс между TPR и FPR.\n",
    "* **AUC** — обобщённая оценка качества классификатора: чем ближе к 1.0, тем лучше."
   ]
  },
  {
   "cell_type": "markdown",
   "id": "20b36430-351b-468d-a029-faeea0e24855",
   "metadata": {},
   "source": [
    "## 🔢 Подготовим данные"
   ]
  },
  {
   "cell_type": "code",
   "execution_count": 14,
   "id": "dcc4de21-457c-4562-9275-b9117caf079c",
   "metadata": {},
   "outputs": [
    {
     "data": {
      "text/html": [
       "<div>\n",
       "<style scoped>\n",
       "    .dataframe tbody tr th:only-of-type {\n",
       "        vertical-align: middle;\n",
       "    }\n",
       "\n",
       "    .dataframe tbody tr th {\n",
       "        vertical-align: top;\n",
       "    }\n",
       "\n",
       "    .dataframe thead th {\n",
       "        text-align: right;\n",
       "    }\n",
       "</style>\n",
       "<table border=\"1\" class=\"dataframe\">\n",
       "  <thead>\n",
       "    <tr style=\"text-align: right;\">\n",
       "      <th></th>\n",
       "      <th>Шаг</th>\n",
       "      <th>Чувствительность (TPR)</th>\n",
       "      <th>Избирательность (TNR)</th>\n",
       "      <th>False Positive Rate (FPR)</th>\n",
       "    </tr>\n",
       "  </thead>\n",
       "  <tbody>\n",
       "    <tr>\n",
       "      <th>0</th>\n",
       "      <td>0</td>\n",
       "      <td>1.0</td>\n",
       "      <td>0.0</td>\n",
       "      <td>1.0</td>\n",
       "    </tr>\n",
       "    <tr>\n",
       "      <th>1</th>\n",
       "      <td>1</td>\n",
       "      <td>1.0</td>\n",
       "      <td>0.2</td>\n",
       "      <td>0.8</td>\n",
       "    </tr>\n",
       "    <tr>\n",
       "      <th>2</th>\n",
       "      <td>2</td>\n",
       "      <td>0.8</td>\n",
       "      <td>0.2</td>\n",
       "      <td>0.8</td>\n",
       "    </tr>\n",
       "    <tr>\n",
       "      <th>3</th>\n",
       "      <td>3</td>\n",
       "      <td>0.8</td>\n",
       "      <td>0.4</td>\n",
       "      <td>0.6</td>\n",
       "    </tr>\n",
       "    <tr>\n",
       "      <th>4</th>\n",
       "      <td>4</td>\n",
       "      <td>0.8</td>\n",
       "      <td>0.6</td>\n",
       "      <td>0.4</td>\n",
       "    </tr>\n",
       "    <tr>\n",
       "      <th>5</th>\n",
       "      <td>5</td>\n",
       "      <td>0.6</td>\n",
       "      <td>0.6</td>\n",
       "      <td>0.4</td>\n",
       "    </tr>\n",
       "    <tr>\n",
       "      <th>6</th>\n",
       "      <td>6</td>\n",
       "      <td>0.6</td>\n",
       "      <td>0.8</td>\n",
       "      <td>0.2</td>\n",
       "    </tr>\n",
       "    <tr>\n",
       "      <th>7</th>\n",
       "      <td>7</td>\n",
       "      <td>0.4</td>\n",
       "      <td>0.8</td>\n",
       "      <td>0.2</td>\n",
       "    </tr>\n",
       "    <tr>\n",
       "      <th>8</th>\n",
       "      <td>8</td>\n",
       "      <td>0.4</td>\n",
       "      <td>1.0</td>\n",
       "      <td>0.0</td>\n",
       "    </tr>\n",
       "    <tr>\n",
       "      <th>9</th>\n",
       "      <td>9</td>\n",
       "      <td>0.2</td>\n",
       "      <td>1.0</td>\n",
       "      <td>0.0</td>\n",
       "    </tr>\n",
       "    <tr>\n",
       "      <th>10</th>\n",
       "      <td>10</td>\n",
       "      <td>0.0</td>\n",
       "      <td>1.0</td>\n",
       "      <td>0.0</td>\n",
       "    </tr>\n",
       "  </tbody>\n",
       "</table>\n",
       "</div>"
      ],
      "text/plain": [
       "    Шаг  Чувствительность (TPR)  Избирательность (TNR)  \\\n",
       "0     0                     1.0                    0.0   \n",
       "1     1                     1.0                    0.2   \n",
       "2     2                     0.8                    0.2   \n",
       "3     3                     0.8                    0.4   \n",
       "4     4                     0.8                    0.6   \n",
       "5     5                     0.6                    0.6   \n",
       "6     6                     0.6                    0.8   \n",
       "7     7                     0.4                    0.8   \n",
       "8     8                     0.4                    1.0   \n",
       "9     9                     0.2                    1.0   \n",
       "10   10                     0.0                    1.0   \n",
       "\n",
       "    False Positive Rate (FPR)  \n",
       "0                         1.0  \n",
       "1                         0.8  \n",
       "2                         0.8  \n",
       "3                         0.6  \n",
       "4                         0.4  \n",
       "5                         0.4  \n",
       "6                         0.2  \n",
       "7                         0.2  \n",
       "8                         0.0  \n",
       "9                         0.0  \n",
       "10                        0.0  "
      ]
     },
     "metadata": {},
     "output_type": "display_data"
    }
   ],
   "source": [
    "# Данные\n",
    "steps = list(range(11))  # Шаги от 0 до 10\n",
    "tpr = [1.0, 1.0, 0.8, 0.8, 0.8, 0.6, 0.6, 0.4, 0.4, 0.2, 0.0]  # Чувствительность (True Positive Rate)\n",
    "tnr = [0.0, 0.2, 0.2, 0.4, 0.6, 0.6, 0.8, 0.8, 1.0, 1.0, 1.0]  # Избирательность (True Negative Rate)\n",
    "\n",
    "# Переведём избирательность в False Positive Rate: FPR = 1 - TNR\n",
    "fpr = [1 - val for val in tnr]\n",
    "\n",
    "# Соберём в DataFrame\n",
    "df_roc = pd.DataFrame({\n",
    "    \"Шаг\": steps,\n",
    "    \"Чувствительность (TPR)\": tpr,\n",
    "    \"Избирательность (TNR)\": tnr,\n",
    "    \"False Positive Rate (FPR)\": fpr\n",
    "})\n",
    "\n",
    "# Выведем таблицу\n",
    "display(df_roc)"
   ]
  },
  {
   "cell_type": "markdown",
   "id": "c148404b-9539-4225-8dfd-84c44a5297b5",
   "metadata": {},
   "source": [
    "## 📊 Построим ROC-кривую"
   ]
  },
  {
   "cell_type": "code",
   "execution_count": 15,
   "id": "56d368fd-1e26-414d-b9c1-cbd3e8c5a801",
   "metadata": {},
   "outputs": [
    {
     "data": {
      "image/png": "[encoded data removed]",
      "text/plain": [
       "<Figure size 600x600 with 1 Axes>"
      ]
     },
     "metadata": {},
     "output_type": "display_data"
    }
   ],
   "source": [
    "plt.figure(figsize=(6, 6))\n",
    "\n",
    "# Линия случайного классификатора: TNR = 1 - TPR\n",
    "plt.plot([0, 1], [1, 0], linestyle='--', color='gray', label='Случайный классификатор')\n",
    "\n",
    "# ROC-кривая в альтернативной системе координат (TPR по оси X, TNR по оси Y)\n",
    "plt.plot(df_roc['Чувствительность (TPR)'], df_roc['Избирательность (TNR)'],\n",
    "         marker='o', label='TPR vs TNR')\n",
    "\n",
    "# Подпишем шаги\n",
    "for i in range(len(df_roc)):\n",
    "    plt.text(df_roc['Чувствительность (TPR)'][i] + 0.01,\n",
    "             df_roc['Избирательность (TNR)'][i] + 0.01,\n",
    "             f\"{df_roc['Шаг'][i]}\", fontsize=9)\n",
    "\n",
    "# Оформление\n",
    "plt.title(\"TPR vs TNR (Альтернативный анализ ROC)\")\n",
    "plt.xlabel(\"Чувствительность (TPR)\")\n",
    "plt.ylabel(\"Избирательность (TNR)\")\n",
    "plt.grid(True)\n",
    "plt.legend()\n",
    "plt.xlim(-0.05, 1.05)\n",
    "plt.ylim(-0.05, 1.05)\n",
    "plt.show()"
   ]
  },
  {
   "cell_type": "markdown",
   "id": "c09eac1b-7f4f-453d-b307-aa7313b3e528",
   "metadata": {},
   "source": [
    "## 📐 Вычислим AUC (площадь под ROC-кривой)"
   ]
  },
  {
   "cell_type": "code",
   "execution_count": 16,
   "id": "251bf804-6925-42d9-add0-735c25100bc9",
   "metadata": {},
   "outputs": [
    {
     "name": "stdout",
     "output_type": "stream",
     "text": [
      "📐 Площадь под ROC-кривой (AUC): 72.00%\n"
     ]
    }
   ],
   "source": [
    "# Вычисление AUC вручную\n",
    "roc_auc = auc(df_roc['False Positive Rate (FPR)'], df_roc['Чувствительность (TPR)'])\n",
    "\n",
    "print(f\"📐 Площадь под ROC-кривой (AUC): {roc_auc:.2%}\")"
   ]
  },
  {
   "cell_type": "code",
   "execution_count": null,
   "id": "50575de0-ec50-4a87-a642-4b5d6683d129",
   "metadata": {},
   "outputs": [],
   "source": []
  }
 ],
 "metadata": {
  "kernelspec": {
   "display_name": "Python 3 (ipykernel)",
   "language": "python",
   "name": "python3"
  },
  "language_info": {
   "codemirror_mode": {
    "name": "ipython",
    "version": 3
   },
   "file_extension": ".py",
   "mimetype": "text/x-python",
   "name": "python",
   "nbconvert_exporter": "python",
   "pygments_lexer": "ipython3",
   "version": "3.13.5"
  }
 },
 "nbformat": 4,
 "nbformat_minor": 5
}
