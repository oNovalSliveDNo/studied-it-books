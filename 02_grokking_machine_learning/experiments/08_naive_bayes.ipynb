{
 "cells": [
  {
   "cell_type": "markdown",
   "id": "24600c08-9b2c-4793-b5f4-cfa7d9d510e4",
   "metadata": {},
   "source": [
    "# Наивный байесовский классификатор для фильтрации спама\n",
    "\n",
    "В этом ноутбуке реализован наивный байесовский классификатор для определения спам-писем.\n",
    "\n",
    "## Импорт библиотек"
   ]
  },
  {
   "cell_type": "code",
   "execution_count": 1,
   "id": "000bf9d2-49cf-48c2-8b9f-388c86d3c636",
   "metadata": {},
   "outputs": [],
   "source": [
    "import pandas as pd\n",
    "import numpy as np"
   ]
  },
  {
   "cell_type": "markdown",
   "id": "2c2c37d9-04a5-4cb0-9172-3bd8756cf724",
   "metadata": {},
   "source": [
    "## Загрузка данных\n",
    "\n",
    "Загружаем датасет с электронными письмами:"
   ]
  },
  {
   "cell_type": "code",
   "execution_count": 2,
   "id": "3afb96c1-4bb5-4e96-b239-9dcabe812827",
   "metadata": {},
   "outputs": [
    {
     "data": {
      "text/html": [
       "<div>\n",
       "<style scoped>\n",
       "    .dataframe tbody tr th:only-of-type {\n",
       "        vertical-align: middle;\n",
       "    }\n",
       "\n",
       "    .dataframe tbody tr th {\n",
       "        vertical-align: top;\n",
       "    }\n",
       "\n",
       "    .dataframe thead th {\n",
       "        text-align: right;\n",
       "    }\n",
       "</style>\n",
       "<table border=\"1\" class=\"dataframe\">\n",
       "  <thead>\n",
       "    <tr style=\"text-align: right;\">\n",
       "      <th></th>\n",
       "      <th>text</th>\n",
       "      <th>spam</th>\n",
       "    </tr>\n",
       "  </thead>\n",
       "  <tbody>\n",
       "    <tr>\n",
       "      <th>0</th>\n",
       "      <td>Subject: naturally irresistible your corporate...</td>\n",
       "      <td>1</td>\n",
       "    </tr>\n",
       "    <tr>\n",
       "      <th>1</th>\n",
       "      <td>Subject: the stock trading gunslinger  fanny i...</td>\n",
       "      <td>1</td>\n",
       "    </tr>\n",
       "    <tr>\n",
       "      <th>2</th>\n",
       "      <td>Subject: unbelievable new homes made easy  im ...</td>\n",
       "      <td>1</td>\n",
       "    </tr>\n",
       "    <tr>\n",
       "      <th>3</th>\n",
       "      <td>Subject: 4 color printing special  request add...</td>\n",
       "      <td>1</td>\n",
       "    </tr>\n",
       "    <tr>\n",
       "      <th>4</th>\n",
       "      <td>Subject: do not have money , get software cds ...</td>\n",
       "      <td>1</td>\n",
       "    </tr>\n",
       "    <tr>\n",
       "      <th>...</th>\n",
       "      <td>...</td>\n",
       "      <td>...</td>\n",
       "    </tr>\n",
       "    <tr>\n",
       "      <th>5723</th>\n",
       "      <td>Subject: re : research and development charges...</td>\n",
       "      <td>0</td>\n",
       "    </tr>\n",
       "    <tr>\n",
       "      <th>5724</th>\n",
       "      <td>Subject: re : receipts from visit  jim ,  than...</td>\n",
       "      <td>0</td>\n",
       "    </tr>\n",
       "    <tr>\n",
       "      <th>5725</th>\n",
       "      <td>Subject: re : enron case study update  wow ! a...</td>\n",
       "      <td>0</td>\n",
       "    </tr>\n",
       "    <tr>\n",
       "      <th>5726</th>\n",
       "      <td>Subject: re : interest  david ,  please , call...</td>\n",
       "      <td>0</td>\n",
       "    </tr>\n",
       "    <tr>\n",
       "      <th>5727</th>\n",
       "      <td>Subject: news : aurora 5 . 2 update  aurora ve...</td>\n",
       "      <td>0</td>\n",
       "    </tr>\n",
       "  </tbody>\n",
       "</table>\n",
       "<p>5728 rows × 2 columns</p>\n",
       "</div>"
      ],
      "text/plain": [
       "                                                   text  spam\n",
       "0     Subject: naturally irresistible your corporate...     1\n",
       "1     Subject: the stock trading gunslinger  fanny i...     1\n",
       "2     Subject: unbelievable new homes made easy  im ...     1\n",
       "3     Subject: 4 color printing special  request add...     1\n",
       "4     Subject: do not have money , get software cds ...     1\n",
       "...                                                 ...   ...\n",
       "5723  Subject: re : research and development charges...     0\n",
       "5724  Subject: re : receipts from visit  jim ,  than...     0\n",
       "5725  Subject: re : enron case study update  wow ! a...     0\n",
       "5726  Subject: re : interest  david ,  please , call...     0\n",
       "5727  Subject: news : aurora 5 . 2 update  aurora ve...     0\n",
       "\n",
       "[5728 rows x 2 columns]"
      ]
     },
     "execution_count": 2,
     "metadata": {},
     "output_type": "execute_result"
    }
   ],
   "source": [
    "emails = pd.read_csv('data/emails.csv')\n",
    "emails"
   ]
  },
  {
   "cell_type": "markdown",
   "id": "9dc514d8-3aff-49f1-812e-dab3b51465b2",
   "metadata": {},
   "source": [
    "## Предварительная обработка данных\n",
    "\n",
    "Определим функцию для обработки текста писем:"
   ]
  },
  {
   "cell_type": "code",
   "execution_count": 3,
   "id": "9903b757-628e-483f-ab13-44533051d186",
   "metadata": {},
   "outputs": [],
   "source": [
    "def process_email(text):\n",
    "    \"\"\"Приводит текст к нижнему регистру и возвращает уникальные слова\"\"\"\n",
    "    text = text.lower()\n",
    "    return list(set(text.split()))"
   ]
  },
  {
   "cell_type": "markdown",
   "id": "a41a8cda-1c14-484a-b6b1-2bbb4e7876fc",
   "metadata": {},
   "source": [
    "Применяем функцию к данным:"
   ]
  },
  {
   "cell_type": "code",
   "execution_count": 4,
   "id": "17c436c3-c2d3-4c70-9656-c1ea300804c4",
   "metadata": {},
   "outputs": [
    {
     "data": {
      "text/html": [
       "<div>\n",
       "<style scoped>\n",
       "    .dataframe tbody tr th:only-of-type {\n",
       "        vertical-align: middle;\n",
       "    }\n",
       "\n",
       "    .dataframe tbody tr th {\n",
       "        vertical-align: top;\n",
       "    }\n",
       "\n",
       "    .dataframe thead th {\n",
       "        text-align: right;\n",
       "    }\n",
       "</style>\n",
       "<table border=\"1\" class=\"dataframe\">\n",
       "  <thead>\n",
       "    <tr style=\"text-align: right;\">\n",
       "      <th></th>\n",
       "      <th>text</th>\n",
       "      <th>spam</th>\n",
       "      <th>words</th>\n",
       "    </tr>\n",
       "  </thead>\n",
       "  <tbody>\n",
       "    <tr>\n",
       "      <th>0</th>\n",
       "      <td>Subject: naturally irresistible your corporate...</td>\n",
       "      <td>1</td>\n",
       "      <td>[., without, -, original, ordered, list, marke...</td>\n",
       "    </tr>\n",
       "    <tr>\n",
       "      <th>1</th>\n",
       "      <td>Subject: the stock trading gunslinger  fanny i...</td>\n",
       "      <td>1</td>\n",
       "      <td>[plain, gunslinger, try, the, chronography, di...</td>\n",
       "    </tr>\n",
       "    <tr>\n",
       "      <th>2</th>\n",
       "      <td>Subject: unbelievable new homes made easy  im ...</td>\n",
       "      <td>1</td>\n",
       "      <td>[,, all, the, approved, loan, -, ., subject:, ...</td>\n",
       "    </tr>\n",
       "    <tr>\n",
       "      <th>3</th>\n",
       "      <td>Subject: 4 color printing special  request add...</td>\n",
       "      <td>1</td>\n",
       "      <td>[advertisement, ,, click, ca, azusa, 626, ), ....</td>\n",
       "    </tr>\n",
       "    <tr>\n",
       "      <th>4</th>\n",
       "      <td>Subject: do not have money , get software cds ...</td>\n",
       "      <td>1</td>\n",
       "      <td>[,, all, death, be, the, by, ., subject:, grea...</td>\n",
       "    </tr>\n",
       "    <tr>\n",
       "      <th>...</th>\n",
       "      <td>...</td>\n",
       "      <td>...</td>\n",
       "      <td>...</td>\n",
       "    </tr>\n",
       "    <tr>\n",
       "      <th>5723</th>\n",
       "      <td>Subject: re : research and development charges...</td>\n",
       "      <td>0</td>\n",
       "      <td>[gpg, i, locate, watson, ., -, 7, thanks, vera...</td>\n",
       "    </tr>\n",
       "    <tr>\n",
       "      <th>5724</th>\n",
       "      <td>Subject: re : receipts from visit  jim ,  than...</td>\n",
       "      <td>0</td>\n",
       "      <td>[i, ., -, tomorrow, thanks, louisiana, 02, /, ...</td>\n",
       "    </tr>\n",
       "    <tr>\n",
       "      <th>5725</th>\n",
       "      <td>Subject: re : enron case study update  wow ! a...</td>\n",
       "      <td>0</td>\n",
       "      <td>[i, document, ., -, attempt, then, tx, thanks,...</td>\n",
       "    </tr>\n",
       "    <tr>\n",
       "      <th>5726</th>\n",
       "      <td>Subject: re : interest  david ,  please , call...</td>\n",
       "      <td>0</td>\n",
       "      <td>[i, ., -, discuss, thanks, about, /, kaminski,...</td>\n",
       "    </tr>\n",
       "    <tr>\n",
       "      <th>5727</th>\n",
       "      <td>Subject: news : aurora 5 . 2 update  aurora ve...</td>\n",
       "      <td>0</td>\n",
       "      <td>[dispatch, attached, ., -, tools, stack, enoug...</td>\n",
       "    </tr>\n",
       "  </tbody>\n",
       "</table>\n",
       "<p>5728 rows × 3 columns</p>\n",
       "</div>"
      ],
      "text/plain": [
       "                                                   text  spam  \\\n",
       "0     Subject: naturally irresistible your corporate...     1   \n",
       "1     Subject: the stock trading gunslinger  fanny i...     1   \n",
       "2     Subject: unbelievable new homes made easy  im ...     1   \n",
       "3     Subject: 4 color printing special  request add...     1   \n",
       "4     Subject: do not have money , get software cds ...     1   \n",
       "...                                                 ...   ...   \n",
       "5723  Subject: re : research and development charges...     0   \n",
       "5724  Subject: re : receipts from visit  jim ,  than...     0   \n",
       "5725  Subject: re : enron case study update  wow ! a...     0   \n",
       "5726  Subject: re : interest  david ,  please , call...     0   \n",
       "5727  Subject: news : aurora 5 . 2 update  aurora ve...     0   \n",
       "\n",
       "                                                  words  \n",
       "0     [., without, -, original, ordered, list, marke...  \n",
       "1     [plain, gunslinger, try, the, chronography, di...  \n",
       "2     [,, all, the, approved, loan, -, ., subject:, ...  \n",
       "3     [advertisement, ,, click, ca, azusa, 626, ), ....  \n",
       "4     [,, all, death, be, the, by, ., subject:, grea...  \n",
       "...                                                 ...  \n",
       "5723  [gpg, i, locate, watson, ., -, 7, thanks, vera...  \n",
       "5724  [i, ., -, tomorrow, thanks, louisiana, 02, /, ...  \n",
       "5725  [i, document, ., -, attempt, then, tx, thanks,...  \n",
       "5726  [i, ., -, discuss, thanks, about, /, kaminski,...  \n",
       "5727  [dispatch, attached, ., -, tools, stack, enoug...  \n",
       "\n",
       "[5728 rows x 3 columns]"
      ]
     },
     "execution_count": 4,
     "metadata": {},
     "output_type": "execute_result"
    }
   ],
   "source": [
    "emails['words'] = emails['text'].apply(process_email)\n",
    "emails"
   ]
  },
  {
   "cell_type": "markdown",
   "id": "b3c5908d-9617-403e-adb0-6385f597e416",
   "metadata": {},
   "source": [
    "## Поиск априорных вероятностей\n",
    "\n",
    "Сначала найдем вероятность того, что электронное письмо — спам (априорную).  \n",
    "Для этого подсчитаем количество писем, которые являются спамом, и разделим его на общее их количество. "
   ]
  },
  {
   "cell_type": "code",
   "execution_count": 5,
   "id": "f0df8cbc-63fb-4942-b536-f0a405551931",
   "metadata": {},
   "outputs": [
    {
     "name": "stdout",
     "output_type": "stream",
     "text": [
      "Вероятность того, что электронное письмо является спамом, когда мы ничего не знаем о нем: 24%\n",
      "Аналогично, априорная вероятность того, что электронное письмо полезное: 76%\n"
     ]
    }
   ],
   "source": [
    "print(f'Вероятность того, что электронное письмо является спамом, когда мы ничего не знаем о нем: {sum(emails['spam']) / len(emails):.0%}')\n",
    "print(f'Аналогично, априорная вероятность того, что электронное письмо полезное: {1 - sum(emails['spam']) / len(emails):.0%}')"
   ]
  },
  {
   "cell_type": "markdown",
   "id": "c30bcce6-0f24-477f-9d67-ecd5ebe46fa9",
   "metadata": {},
   "source": [
    "# Нахождение апостериорной вероятности с помощью теоремы Байеса\n",
    "\n",
    "Нам нужно найти вероятность того, что спам (и полезные) электронные письма содержат определенное слово.  \n",
    "Проделаем это для всех слов одновременно.  \n",
    "Следующая функция создает словарь model, который записывает каждое слово рядом с количеством его появлений в спам- и полезных письмах:"
   ]
  },
  {
   "cell_type": "code",
   "execution_count": 6,
   "id": "b7ec965f-f248-4b18-a6dc-b49228d29b3e",
   "metadata": {},
   "outputs": [],
   "source": [
    "model = {}\n",
    "\n",
    "for index, email in emails.iterrows():\n",
    "    for word in email['words']:\n",
    "        # Инициализация словаря для нового слова\n",
    "        if word not in model:\n",
    "            model[word] = {'spam': 1, 'ham': 1} # Добавляем 1 для сглаживания\n",
    "        if word in model:\n",
    "            # Обновляем счетчики\n",
    "            if email['spam']:\n",
    "                model[word]['spam'] += 1\n",
    "            else:\n",
    "                model[word]['ham'] += 1"
   ]
  },
  {
   "cell_type": "code",
   "execution_count": 7,
   "id": "a939eacc-6c69-4aeb-8223-84cbdf809074",
   "metadata": {},
   "outputs": [
    {
     "name": "stdout",
     "output_type": "stream",
     "text": [
      "{'spam': 9, 'ham': 1}\n",
      "{'spam': 39, 'ham': 42}\n"
     ]
    }
   ],
   "source": [
    "print(model['lottery'])\n",
    "print(model['sale'])"
   ]
  },
  {
   "cell_type": "markdown",
   "id": "7ff1e726-cb0a-4637-9980-0ac432adf23e",
   "metadata": {},
   "source": [
    "Это означает, что слово «лотерея» появляется в одном полезном электронном письме и девяти спам-письмах, в то время как слово «распродажа» —\n",
    "в 42 полезных электронных письмах и 39 спам-письмах.  \n",
    "Хотя этот словарь не содержит никаких вероятностей, их можно вывести, разделив первую запись на сумму обеих записей."
   ]
  },
  {
   "cell_type": "code",
   "execution_count": 8,
   "id": "f9e45992-27b6-4b13-9287-d151588b2e42",
   "metadata": {},
   "outputs": [
    {
     "name": "stdout",
     "output_type": "stream",
     "text": [
      "Таким образом, если электронное письмо содержит слово «лотерея» (\"lottery\"), вероятность того, что оно является спамом, равна 9 / (9 + 1) = 90.0% \n",
      "А если в нем есть слово «распродажа» (\"sale\"), то 39 / (39 + 42) = 48.15%\n"
     ]
    }
   ],
   "source": [
    "print(f'Таким образом, если электронное письмо содержит слово «лотерея» (\"lottery\"), вероятность \\\n",
    "того, что оно является спамом, равна 9 / (9 + 1) = {9 / (9 + 1):.1%} \\\n",
    "\\nА если в нем есть слово «распродажа» (\"sale\"), то 39 / (39 + 42) = {39/(39+ 42):.2%}')"
   ]
  },
  {
   "cell_type": "markdown",
   "id": "a311d86b-2f49-48d7-8d12-c90fc38357cb",
   "metadata": {},
   "source": [
    "# Реализация наивного байесовского алгоритма"
   ]
  },
  {
   "cell_type": "code",
   "execution_count": 9,
   "id": "a408b752-3585-4806-8b25-653d4608ff15",
   "metadata": {},
   "outputs": [],
   "source": [
    "def predict_naive_bayes(email):\n",
    "    \"\"\"\n",
    "    Предсказывает вероятность того, что письмо является спамом\n",
    "    с помощью наивного байесовского классификатора.\n",
    "    \"\"\"\n",
    "    # вычисляем общее кол-во электронных писем, нежелательных и полезных\n",
    "    total = len(emails)\n",
    "    num_spam = sum(emails['spam'])\n",
    "    num_ham = total - num_spam\n",
    "\n",
    "    # обрабатываем каждое электронное письмо, превращая его в список слов в нижнем регистре\n",
    "    email = email.lower()\n",
    "    words = set(email.split())\n",
    "    \n",
    "    # Инициализация вероятностей\n",
    "    spams = [1.0]  # Начальное значение для умножения\n",
    "    hams = [1.0]\n",
    "\n",
    "    for word in words:\n",
    "        if word in model:\n",
    "\n",
    "            # для каждого слова вычисляем условную вероятность того, что \n",
    "            # содержащее его электронное письмо является спамом (или полезным)\n",
    "            spams.append(model[word]['spam'] / num_spam * total)\n",
    "            hams.append(model[word]['ham'] / num_ham * total)\n",
    "            \n",
    "    # Расчет произведения вероятностей в логарифмической шкале\n",
    "    # перемножаем все предыдущие вероятности, умноженные на априорную вероятность того,\n",
    "    # что электронное письмо является спамом, и называем всё это prod_spams\n",
    "    # выполняем аналогичный процесс для prod_hams\n",
    "    prod_spams = float(np.prod(spams) * num_spam)\n",
    "    prod_hams = float(np.prod(hams) * num_ham)\n",
    "\n",
    "    # нормализуем эти две вероятности, чтобы они составляли единицу \n",
    "    # (с помощью теоремы Байеса), и возвращаем результат\n",
    "    return prod_spams / (prod_spams + prod_hams)"
   ]
  },
  {
   "cell_type": "markdown",
   "id": "c7f3d7bb-1809-4a06-b41d-d1e8016a0913",
   "metadata": {},
   "source": [
    "## Тестирование модели\n",
    "\n",
    "Протестируем модель на различных примерах:"
   ]
  },
  {
   "cell_type": "code",
   "execution_count": 10,
   "id": "f194d6b9-7704-454b-af57-d6d8101c6380",
   "metadata": {},
   "outputs": [
    {
     "name": "stdout",
     "output_type": "stream",
     "text": [
      "                   Текст письма                    | Вероятность спама\n",
      "----------------------------------------------------------------------\n",
      "lottery sale                                       |  96.38%\n",
      "Hi mom how are you                                 |  12.55%\n",
      "Hi MOM how aRe yoU afdjsaklfsdhgjasdhfjklsd        |  12.55%\n",
      "meet me at the lobby of the hotel at nine am       |   0.01%\n",
      "enter the lottery to win three million dollars     |  99.95%\n",
      "buy cheap lottery easy money now                   | 100.00%\n",
      "Grokking Machine Learning by Luis Serrano          |  41.97%\n",
      "asdfgh                                             |  23.88%\n"
     ]
    }
   ],
   "source": [
    "email_texts = [\n",
    "    'lottery sale',\n",
    "    'Hi mom how are you',\n",
    "    'Hi MOM how aRe yoU afdjsaklfsdhgjasdhfjklsd',\n",
    "    'meet me at the lobby of the hotel at nine am',\n",
    "    'enter the lottery to win three million dollars',\n",
    "    'buy cheap lottery easy money now',\n",
    "    'Grokking Machine Learning by Luis Serrano',\n",
    "    'asdfgh'\n",
    "]\n",
    "\n",
    "print(f\"{'Текст письма':^50} | {'Вероятность спама'}\")\n",
    "print('-' * 70)\n",
    "\n",
    "for email_text in email_texts:\n",
    "    probability = predict_naive_bayes(email_text)\n",
    "    print(f\"{email_text:<50} | {probability:>7.2%}\")"
   ]
  },
  {
   "cell_type": "code",
   "execution_count": null,
   "id": "d2aca112-e037-43b8-8f6a-8d4b44b433a1",
   "metadata": {},
   "outputs": [],
   "source": []
  }
 ],
 "metadata": {
  "kernelspec": {
   "display_name": "Python 3 (ipykernel)",
   "language": "python",
   "name": "python3"
  },
  "language_info": {
   "codemirror_mode": {
    "name": "ipython",
    "version": 3
   },
   "file_extension": ".py",
   "mimetype": "text/x-python",
   "name": "python",
   "nbconvert_exporter": "python",
   "pygments_lexer": "ipython3",
   "version": "3.13.5"
  }
 },
 "nbformat": 4,
 "nbformat_minor": 5
}
