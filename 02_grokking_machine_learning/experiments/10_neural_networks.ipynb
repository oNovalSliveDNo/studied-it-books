{
 "cells": [
  {
   "cell_type": "markdown",
   "id": "09668064-67d8-40d3-af73-562a2ca736c1",
   "metadata": {},
   "source": [
    "# Построение границы решений (decision boundary) для искусственной нейронной сети"
   ]
  },
  {
   "cell_type": "code",
   "execution_count": 1,
   "id": "dcf00f34-ec6d-4a8e-b918-bf265ad13f89",
   "metadata": {},
   "outputs": [
    {
     "ename": "ModuleNotFoundError",
     "evalue": "No module named 'tensorflow'",
     "output_type": "error",
     "traceback": [
      "\u001b[31m---------------------------------------------------------------------------\u001b[39m",
      "\u001b[31mModuleNotFoundError\u001b[39m                       Traceback (most recent call last)",
      "\u001b[36mCell\u001b[39m\u001b[36m \u001b[39m\u001b[32mIn[1]\u001b[39m\u001b[32m, line 6\u001b[39m\n\u001b[32m      3\u001b[39m \u001b[38;5;28;01mimport\u001b[39;00m\u001b[38;5;250m \u001b[39m\u001b[34;01mpandas\u001b[39;00m\u001b[38;5;250m \u001b[39m\u001b[38;5;28;01mas\u001b[39;00m\u001b[38;5;250m \u001b[39m\u001b[34;01mpd\u001b[39;00m\n\u001b[32m      4\u001b[39m \u001b[38;5;28;01mimport\u001b[39;00m\u001b[38;5;250m \u001b[39m\u001b[34;01mmatplotlib\u001b[39;00m\u001b[34;01m.\u001b[39;00m\u001b[34;01mpyplot\u001b[39;00m\u001b[38;5;250m \u001b[39m\u001b[38;5;28;01mas\u001b[39;00m\u001b[38;5;250m \u001b[39m\u001b[34;01mplt\u001b[39;00m\n\u001b[32m----> \u001b[39m\u001b[32m6\u001b[39m \u001b[38;5;28;01mimport\u001b[39;00m\u001b[38;5;250m \u001b[39m\u001b[34;01mtensorflow\u001b[39;00m\u001b[38;5;250m \u001b[39m\u001b[38;5;28;01mas\u001b[39;00m\u001b[38;5;250m \u001b[39m\u001b[34;01mtf\u001b[39;00m\n\u001b[32m      7\u001b[39m \u001b[38;5;28;01mfrom\u001b[39;00m\u001b[38;5;250m \u001b[39m\u001b[34;01mtensorflow\u001b[39;00m\u001b[38;5;250m \u001b[39m\u001b[38;5;28;01mimport\u001b[39;00m keras  \u001b[38;5;66;03m# Фреймворк для нейронных сетей\u001b[39;00m\n\u001b[32m      8\u001b[39m \u001b[38;5;28;01mfrom\u001b[39;00m\u001b[38;5;250m \u001b[39m\u001b[34;01mtensorflow\u001b[39;00m\u001b[34;01m.\u001b[39;00m\u001b[34;01mkeras\u001b[39;00m\u001b[34;01m.\u001b[39;00m\u001b[34;01mutils\u001b[39;00m\u001b[38;5;250m \u001b[39m\u001b[38;5;28;01mimport\u001b[39;00m to_categorical\n",
      "\u001b[31mModuleNotFoundError\u001b[39m: No module named 'tensorflow'"
     ]
    }
   ],
   "source": [
    "import warnings\n",
    "import numpy as np\n",
    "import pandas as pd\n",
    "import matplotlib.pyplot as plt\n",
    "\n",
    "import tensorflow as tf\n",
    "from tensorflow import keras  # Фреймворк для нейронных сетей\n",
    "from tensorflow.keras.utils import to_categorical\n",
    "from tensorflow.keras.models import Sequential  # Последовательная модель\n",
    "from tensorflow.keras.layers import Dense, Dropout  # Полносвязные слои и слой dropout\n",
    "\n",
    "from utils.plot_nn_decision_boundary import plot_nn_decision_boundary\n",
    "from utils.errors import step, sigmoid\n",
    "\n",
    "warnings.filterwarnings(\"ignore\", category=UserWarning, module='google.protobuf')\n",
    "\n",
    "# Установка случайных seed для воспроизводимости результатов\n",
    "np.random.seed(0)  # Фиксируем seed для numpy\n",
    "tf.random.set_seed(1)  # Фиксируем seed для TensorFlow"
   ]
  },
  {
   "cell_type": "markdown",
   "id": "5952d0c2-c0dd-4d43-a6a6-dfd1878c7ab9",
   "metadata": {},
   "source": [
    "# Создаём искусственный датасет \"инопланетян\""
   ]
  },
  {
   "cell_type": "code",
   "execution_count": null,
   "id": "4e10a570-7c61-4629-bd71-f7b269beb183",
   "metadata": {},
   "outputs": [],
   "source": [
    "data = {\n",
    "    \"Предложение\": [\n",
    "        \"Аак\", \"Аак аак\", \"Бип\", \"Бип бип\", \"Аак бип\", \n",
    "        \"Аак аак бип\", \"Бип аак бип\", \"Бип аак бип аак\"\n",
    "    ],\n",
    "    \"Aaк\": [1, 2, 0, 0, 1, 2, 1, 2],\n",
    "    \"Бип\": [0, 0, 1, 2, 1, 1, 2, 2],\n",
    "    \"Настроение\": [\"Грустный\", \"Грустный\", \"Грустный\", \"Грустный\", \n",
    "                   \"Радостный\", \"Радостный\", \"Радостный\", \"Радостный\"]\n",
    "}\n",
    "\n",
    "df = pd.DataFrame(data)\n",
    "df"
   ]
  },
  {
   "cell_type": "code",
   "execution_count": null,
   "id": "21c74fb4-c05a-4cda-9fd4-6550688bb849",
   "metadata": {},
   "outputs": [],
   "source": [
    "# Заменяем метки на числа\n",
    "df['Настроение'] = df['Настроение'].map({'Грустный': 0, \n",
    "                                         'Радостный': 1})\n",
    "\n",
    "# X — только признаки\n",
    "X = df[['Aaк', 'Бип']]\n",
    "\n",
    "# y — только целевая переменная\n",
    "y = df['Настроение']\n",
    "\n",
    "# Разделяем данные по настроению\n",
    "happy = df[y == 1]\n",
    "sad = df[y == 0]\n",
    "\n",
    "# Общие настройки графики\n",
    "figsize=(12, 4)\n",
    "xlim=(-0.5, 3)\n",
    "ylim=(-0.5, 3)"
   ]
  },
  {
   "cell_type": "code",
   "execution_count": null,
   "id": "68df3539-7375-426a-b25f-b8901f451adc",
   "metadata": {},
   "outputs": [],
   "source": [
    "# Создаем фигуру\n",
    "plt.figure(figsize=figsize)\n",
    "\n",
    "# Рисуем точки\n",
    "plt.scatter(happy['Aaк'], happy['Бип'], c='green', label='Радостный', s=500)\n",
    "plt.scatter(sad['Aaк'], sad['Бип'], c='red', label='Грустный', s=500)\n",
    "\n",
    "# Настраиваем оси и заголовок\n",
    "plt.xlabel('Количество \"Аак\"')\n",
    "plt.ylabel('Количество \"Бип\"')\n",
    "plt.title('Настроение инопланетян')\n",
    "plt.xlim(xlim)\n",
    "plt.ylim(ylim)\n",
    "plt.legend()\n",
    "plt.grid(True, linestyle='--', linewidth=0.4)\n",
    "plt.show()"
   ]
  },
  {
   "cell_type": "code",
   "execution_count": null,
   "id": "d620a706-3577-41b6-8748-5214dde920e8",
   "metadata": {},
   "outputs": [],
   "source": [
    "# Первый линейный классификатор (нейрон первого слоя)\n",
    "def line_1(a, b):\n",
    "    return step(6 * a + 10 * b - 15)  # веса: 6 и 10, смещение -15\n",
    "\n",
    "# Второй линейный классификатор (нейрон первого слоя)\n",
    "def line_2(a, b):\n",
    "    return step(10 * a + 6 * b - 15)  # веса: 10 и 6, смещение -15\n",
    "\n",
    "# Функция смещения (bias)\n",
    "def bias(a, b):\n",
    "    return 1  # всегда возвращает 1 (аналог единичного нейрона)\n",
    "\n",
    "# Нейронная сеть с ступенчатой функцией активации (двухслойная)\n",
    "def nn_with_step(a, b):\n",
    "    # Комбинируем выходы первого слоя с весами 1 и 1, и смещением -1.5\n",
    "    return step(step(6 * a + 10 * b - 15) + \n",
    "                step(10 * a + 6 * b - 15) - 1.5)\n",
    "\n",
    "# Нейронная сеть с сигмоидной функцией активации (двухслойная)\n",
    "def nn_with_sigmoid(a, b):\n",
    "    # Комбинируем выходы первого слоя с весами 1.0 и 1.0, и смещением -1.5\n",
    "    return sigmoid(1.0 * sigmoid(6 * a + 10 * b - 15) + \n",
    "                   1.0 * sigmoid(10 * a + 6 * b - 15) - 1.5)"
   ]
  },
  {
   "cell_type": "markdown",
   "id": "4adfb705-3bb9-4677-80a2-11b7934c7c90",
   "metadata": {},
   "source": [
    "# Визуализация границ первого слоя (линейные классификаторы и смещение)"
   ]
  },
  {
   "cell_type": "code",
   "execution_count": null,
   "id": "f5a7f7a7-5806-4dbd-9bf3-538ea9eabd90",
   "metadata": {},
   "outputs": [],
   "source": [
    "# Создаем фигуру с 1 строкой и 3 столбцами для первых трех графиков\n",
    "plt.figure(figsize=figsize)\n",
    "\n",
    "# Первый график - line_1\n",
    "plt.subplot(1, 3, 1)\n",
    "plot_nn_decision_boundary(line_1, xlim, ylim, happy, sad)\n",
    "plt.title(\"Граница 1-ого лин. классификатора (line_1)\")\n",
    "\n",
    "# Второй график - line_2\n",
    "plt.subplot(1, 3, 2)\n",
    "plot_nn_decision_boundary(line_2, xlim, ylim, happy, sad)\n",
    "plt.title(\"Граница 2-ого лин. классификатора (line_2)\")\n",
    "\n",
    "# Третий график - bias\n",
    "plt.subplot(1, 3, 3)\n",
    "plot_nn_decision_boundary(bias, xlim, ylim, happy, sad)\n",
    "plt.title(\"Граница смещения (bias) - всегда 1\")\n",
    "\n",
    "plt.tight_layout()\n",
    "plt.show()"
   ]
  },
  {
   "cell_type": "markdown",
   "id": "ec41c8ab-90f7-4a53-89b5-8e716502929a",
   "metadata": {},
   "source": [
    "# Визуализация границ второго слоя (нелинейные классификаторы)"
   ]
  },
  {
   "cell_type": "code",
   "execution_count": null,
   "id": "9ccaeb56-9890-4299-b478-e534d1fbceee",
   "metadata": {},
   "outputs": [],
   "source": [
    "# Создаем фигуру с 1 строкой и 2 столбцами для следующих двух графиков\n",
    "plt.figure(figsize=figsize)\n",
    "\n",
    "# Первый график - nn_with_step\n",
    "plt.subplot(1, 2, 1)\n",
    "plot_nn_decision_boundary(nn_with_step, xlim, ylim, happy, sad)\n",
    "plt.title(\"Граница нейронной сети со ступенчатой функцией активации\")\n",
    "\n",
    "# Второй график - nn_with_sigmoid\n",
    "plt.subplot(1, 2, 2)\n",
    "plot_nn_decision_boundary(nn_with_sigmoid, xlim, ylim, happy, sad)\n",
    "plt.title(\"Граница нейронной сети с сигмоидной функцией активации\")\n",
    "\n",
    "plt.tight_layout()\n",
    "plt.show()"
   ]
  },
  {
   "cell_type": "markdown",
   "id": "add6cf96-b3b4-4991-be97-b21b1f7f12be",
   "metadata": {},
   "source": [
    "# Графический пример классификации точек на плоскости с использованием нейронной сети\n",
    "\n",
    "## Загрузка датасета"
   ]
  },
  {
   "cell_type": "code",
   "execution_count": null,
   "id": "22c1cb95-d976-4cf5-962e-15310ce395f1",
   "metadata": {},
   "outputs": [],
   "source": [
    "# Загружаем датасет 'one_circle.csv' (один круг)\n",
    "df = pd.read_csv('data/one_circle.csv', index_col=0)  # Читаем CSV-файл, первый столбец - индекс\n",
    "\n",
    "x = np.array(df[['x_1', 'x_2']])  # Извлекаем признаки x_1 и x_2 в numpy массив\n",
    "y = np.array(df['y']).astype(int)  # Извлекаем метки классов и преобразуем в целые числа\n",
    "\n",
    "df"
   ]
  },
  {
   "cell_type": "markdown",
   "id": "765ca019-0eb3-4ed5-b6ae-98f31b3f2d6b",
   "metadata": {},
   "source": [
    "## Визуализация данных"
   ]
  },
  {
   "cell_type": "code",
   "execution_count": null,
   "id": "25831f5c-8da3-4411-b4e2-fcce4697c05a",
   "metadata": {},
   "outputs": [],
   "source": [
    "# Настройки графика\n",
    "xlim = (df['x_1'].min() - 0.5, df['x_1'].max() + 0.5)\n",
    "ylim = (df['x_2'].min() - 0.5, df['x_2'].max() + 0.5)\n",
    "\n",
    "plt.figure(figsize=figsize)\n",
    "\n",
    "# Разделяем данные по классам\n",
    "class_0 = df[df['y'] == 0]\n",
    "class_1 = df[df['y'] == 1]\n",
    "\n",
    "# Рисуем точки\n",
    "plt.scatter(class_0['x_1'], class_0['x_2'], c='red', marker='s', label='Класс 0', s=100, ec='black')\n",
    "plt.scatter(class_1['x_1'], class_1['x_2'], c='green', marker='^', label='Класс 1', s=100, ec='black')\n",
    "\n",
    "# Настраиваем оси и заголовок\n",
    "plt.xlabel('Признак x_1')\n",
    "plt.ylabel('Признак x_2')\n",
    "plt.title('Визуализация датасета one_circle.csv')\n",
    "plt.xlim(xlim)\n",
    "plt.ylim(ylim)\n",
    "plt.legend()\n",
    "plt.grid(True, linestyle='--', linewidth=0.4)\n",
    "\n",
    "plt.show()"
   ]
  },
  {
   "cell_type": "markdown",
   "id": "a1743671-dd81-4677-b84d-cd7b89c3a433",
   "metadata": {},
   "source": [
    "## Предварительная обработка данных"
   ]
  },
  {
   "cell_type": "code",
   "execution_count": null,
   "id": "246f8ccd-eade-4d54-a082-964830865bbc",
   "metadata": {},
   "outputs": [],
   "source": [
    "# Преобразуем метки классов в one-hot encoding (категориальный формат)\n",
    "categorized_y = np.array(to_categorical(y, 2))  # Преобразуем y в one-hot векторы (2 класса)"
   ]
  },
  {
   "cell_type": "markdown",
   "id": "412dd9ab-14df-404b-b92d-638bffcc99e8",
   "metadata": {},
   "source": [
    "## Создание и компиляция нейронной сети"
   ]
  },
  {
   "cell_type": "code",
   "execution_count": null,
   "id": "a5c53675-7684-4a17-a69b-0c70f00109f7",
   "metadata": {},
   "outputs": [],
   "source": [
    "# Строим модель нейронной сети\n",
    "model = Sequential()  # Создаем последовательную модель\n",
    "\n",
    "# Добавляем слои:\n",
    "# 1. Полносвязный слой с 128 нейронами, активация ReLU, входная размерность 2 (x_1 и x_2)\n",
    "model.add(Dense(128, activation='relu', input_shape=(2,)))\n",
    "\n",
    "# 2. Слой Dropout с вероятностью 20% (для предотвращения переобучения)\n",
    "model.add(Dropout(.2))\n",
    "\n",
    "# 3. Полносвязный слой с 64 нейронами и активацией ReLU\n",
    "model.add(Dense(64, activation='relu'))\n",
    "\n",
    "# 4. Еще один слой Dropout с вероятностью 20%\n",
    "model.add(Dropout(.2))\n",
    "\n",
    "# 5. Выходной слой с 2 нейронами (по числу классов) и активацией softmax (для вероятностей классов)\n",
    "model.add(Dense(2, activation='softmax'))\n",
    "\n",
    "# Компилируем модель:\n",
    "# - Функция потерь: категориальная кросс-энтропия (для многоклассовой классификации)\n",
    "# - Оптимизатор: adam (адаптивный метод градиентного спуска)\n",
    "# - Метрика: точность (accuracy)\n",
    "model.compile(loss = 'categorical_crossentropy', optimizer='adam', metrics=['accuracy'])\n",
    "\n",
    "# Выводим информацию о модели\n",
    "model.summary()  # Показывает архитектуру сети и количество параметров"
   ]
  },
  {
   "cell_type": "markdown",
   "id": "d85f47c4-9e3f-4921-99e7-131413ab0d0b",
   "metadata": {},
   "source": [
    "## Обучение нейронной сети"
   ]
  },
  {
   "cell_type": "code",
   "execution_count": null,
   "id": "04a17103-db46-4922-8858-9abf95fad8c8",
   "metadata": {},
   "outputs": [],
   "source": [
    "# Обучение нейронной сети\n",
    "# Обучаем модель на данных:\n",
    "# - x: признаки\n",
    "# - categorized_y: метки в one-hot формате\n",
    "# - epochs: 200 эпох (проходов по всему датасету)\n",
    "# - batch_size: 10 (размер мини-пакета для градиентного спуска)\n",
    "model.fit(x, categorized_y, epochs=200, batch_size=10, verbose=0)"
   ]
  },
  {
   "cell_type": "markdown",
   "id": "4b14f43e-d773-41ad-ae40-e170520e892d",
   "metadata": {},
   "source": [
    "## График классификации нейронной сети"
   ]
  },
  {
   "cell_type": "code",
   "execution_count": null,
   "id": "4e7d4f64-8af6-45fc-8e2f-8587d73c0a58",
   "metadata": {},
   "outputs": [],
   "source": [
    "# Функция g(Z) преобразует предсказания модели в метки классов (0 или 1)\n",
    "def g(Z):\n",
    "    # Лямбда-функция f: возвращает 1, если второй элемент > первого, иначе 0\n",
    "    f = lambda x: int(x[1] > x[0])\n",
    "    # Применяем f к каждому элементу массива Z и возвращаем массив меток\n",
    "    return np.array([f(i) for i in Z])\n",
    "\n",
    "\n",
    "plot_step = 0.2  # Шаг сетки для построения границы решения\n",
    "\n",
    "x_min, x_max = x[:, 0].min() - 1, x[:, 0].max() + 1\n",
    "y_min, y_max = x[:, 1].min() - 1, x[:, 1].max() + 1\n",
    "\n",
    "plt.figure(figsize=figsize)\n",
    "\n",
    "# Создаем сетку точек для визуализации границы решения:\n",
    "# xx и yy — координаты всех точек на сетке\n",
    "xx, yy = np.meshgrid(\n",
    "    np.arange(x_min, x_max, plot_step),  # Диапазон по оси X\n",
    "    np.arange(y_min, y_max, plot_step)   # Диапазон по оси Y\n",
    ")\n",
    "\n",
    "# Получаем предсказания модели для всех точек сетки:\n",
    "# Преобразуем сетку в массив точек (np.c_ объединяет координаты)\n",
    "Z = model.predict(np.c_[xx.ravel(), yy.ravel()])  # возвращает вероятности классов (one-hot)\n",
    "\n",
    "# Функция g(Z) преобразует вероятности в метки (0 или 1)\n",
    "Z = g(Z).reshape(xx.shape)  # возвращает массив в форме сетки\n",
    "\n",
    "# Заливаем области графика цветами в зависимости от предсказанного класса:\n",
    "plt.contourf(xx, yy, Z, \n",
    "             colors=['red', 'green'],  # цвета для классов 0 и 1\n",
    "             alpha=0.2,  # прозрачность заливки\n",
    "             levels=range(-1, 2))  # уровни для контуров (чтобы разделить два класса)\n",
    "\n",
    "# class_0 — точки класса 0 (красные квадраты)\n",
    "plt.scatter(class_0['x_1'], class_0['x_2'], c='red', marker='s', label='Класс 0', s=100,ec='black')\n",
    "\n",
    "# class_1 — точки класса 1 (зеленые треугольники)\n",
    "plt.scatter(class_1['x_1'], class_1['x_2'], c='green', marker='^', label='Класс 1', s=100, ec='black')\n",
    "\n",
    "plt.xlabel('Признак x_1')  # Подпись оси X\n",
    "plt.ylabel('Признак x_2')  # Подпись оси Y\n",
    "plt.title('Визуализация датасета one_circle.csv')  # Заголовок\n",
    "plt.xlim(xlim)\n",
    "plt.ylim(ylim)\n",
    "plt.legend()\n",
    "plt.grid(True, linestyle='--', linewidth=0.4)\n",
    "plt.show()"
   ]
  },
  {
   "cell_type": "markdown",
   "id": "72e10859-4e59-4a25-87a6-708a103437de",
   "metadata": {},
   "source": [
    "# Построение нейронной сети для распознавания изображений"
   ]
  },
  {
   "cell_type": "code",
   "execution_count": null,
   "id": "b7201e61-6a47-4bc5-b923-0f268e106e43",
   "metadata": {},
   "outputs": [],
   "source": [
    "# Импорт и загрузка набора данных MNIST (рукописные цифры)\n",
    "(x_train, y_train), (x_test, y_test) = keras.datasets.mnist.load_data()\n",
    "\n",
    "# Вывод размера наборов данных\n",
    "print(\"Размер тренировочного набора\", len(x_train))  # 60000 изображений\n",
    "print(\"Размер тестового набора\", len(x_test))  # 10000 изображений"
   ]
  },
  {
   "cell_type": "code",
   "execution_count": null,
   "id": "05c51fe4-68e1-479c-a5a2-802e0ee6ff55",
   "metadata": {},
   "outputs": [],
   "source": [
    "# Визуализация первых 5 изображений из тренировочного набора\n",
    "fig = plt.figure(figsize=(20,20))  # Создаем фигуру большого размера\n",
    "for i in range(5):\n",
    "    ax = fig.add_subplot(1, 5, i+1, xticks=[], yticks=[])  # Создаем подграфики без осей\n",
    "    ax.imshow(x_train[i], cmap='Greys')  # Показываем изображение\n",
    "    ax.set_title('Метка:' + str(y_train[i]))  # Подписываем метку"
   ]
  },
  {
   "cell_type": "markdown",
   "id": "7150e63c-aa22-4171-979b-39f73bc89654",
   "metadata": {},
   "source": [
    "## Предварительная обработка данных"
   ]
  },
  {
   "cell_type": "code",
   "execution_count": null,
   "id": "7417e0d0-9309-456a-a842-ee4c9ebaee14",
   "metadata": {},
   "outputs": [],
   "source": [
    "# Изменение формы данных (преобразование изображений 28x28 в векторы 784x1)\n",
    "x_train_reshaped = x_train.reshape(-1, 28*28)  # -1 означает автоматическое определение размера\n",
    "x_test_reshaped = x_test.reshape(-1, 28*28)\n",
    "\n",
    "# Преобразование меток в one-hot encoding (категориальные)\n",
    "y_train_cat = to_categorical(y_train, 10)  # 10 классов (цифры 0-9)\n",
    "y_test_cat = to_categorical(y_test, 10)"
   ]
  },
  {
   "cell_type": "markdown",
   "id": "1032580c-c6f9-4791-89f4-6fa63e003472",
   "metadata": {},
   "source": [
    "# Построение и обучение нейронной сети"
   ]
  },
  {
   "cell_type": "code",
   "execution_count": null,
   "id": "79037dde-61b7-4b55-9051-3da0efb5abbd",
   "metadata": {},
   "outputs": [],
   "source": [
    "# Создание модели\n",
    "model = Sequential()  # Инициализация последовательной модели\n",
    "\n",
    "# Добавление слоев:\n",
    "model.add(Dense(128, activation='relu', input_shape=(28*28,)))  # Первый скрытый слой (128 нейронов)\n",
    "model.add(Dropout(.2))  # Dropout для регуляризации (отключает 20% нейронов)\n",
    "model.add(Dense(64, activation='relu'))  # Второй скрытый слой (64 нейрона)\n",
    "model.add(Dropout(.2))  # Еще Dropout\n",
    "model.add(Dense(10, activation='softmax'))  # Выходной слой (10 нейронов для 10 классов)\n",
    "\n",
    "# Компиляция модели\n",
    "model.compile(loss='categorical_crossentropy',  # Функция потерь для многоклассовой классификации\n",
    "              optimizer='adam',  # Оптимизатор Adam\n",
    "              metrics=['accuracy'])  # Метрика - точность\n",
    "\n",
    "# Вывод информации о модели\n",
    "model.summary()"
   ]
  },
  {
   "cell_type": "code",
   "execution_count": null,
   "id": "9142f968-276d-407a-a481-77b8773c93c1",
   "metadata": {},
   "outputs": [],
   "source": [
    "# Обучение модели\n",
    "model.fit(x_train_reshaped, y_train_cat, \n",
    "          epochs=10,  # Количество эпох обучения\n",
    "          batch_size=10)  # Размер батча"
   ]
  },
  {
   "cell_type": "code",
   "execution_count": null,
   "id": "f9b10418-3eba-4ed0-b0b6-cb99cedcbd52",
   "metadata": {},
   "outputs": [],
   "source": [
    "# Получение предсказаний\n",
    "predictions_vector = model.predict(x_test_reshaped)  # Получаем вектор вероятностей\n",
    "predictions = [np.argmax(pred) for pred in predictions_vector]  # Преобразуем в метки классов"
   ]
  },
  {
   "cell_type": "code",
   "execution_count": null,
   "id": "719ae4d7-e0d7-4032-9cae-ea8c64a28a7a",
   "metadata": {},
   "outputs": [],
   "source": [
    "# Визуализация и проверка предсказания для 5-го тестового изображения\n",
    "plt.imshow(x_test[4], cmap='Greys')\n",
    "plt.xticks([])  # Убираем оси\n",
    "plt.yticks([])\n",
    "print(\"Истинная метка:\", y_test[4])\n",
    "print(\"Предсказание:\", predictions[4])"
   ]
  },
  {
   "cell_type": "code",
   "execution_count": null,
   "id": "1de0f43b-bb40-469a-80d8-c3258620aad3",
   "metadata": {},
   "outputs": [],
   "source": [
    "# Визуализация и проверка предсказания для 19-го тестового изображения\n",
    "plt.imshow(x_test[18], cmap='Greys')\n",
    "plt.xticks([])\n",
    "plt.yticks([])\n",
    "print(\"Истинная метка:\", y_test[18])\n",
    "print(\"Предсказание:\", predictions[18])"
   ]
  },
  {
   "cell_type": "code",
   "execution_count": null,
   "id": "56efba54-a564-4a89-9a15-3df6e25a3c01",
   "metadata": {},
   "outputs": [],
   "source": [
    "# Оценка точности модели на тестовом наборе\n",
    "num_correct = 0  # Счетчик правильных предсказаний\n",
    "for i in range(len(predictions)):\n",
    "    if predictions[i] == y_test[i]:\n",
    "        num_correct += 1\n",
    "\n",
    "# Вывод результатов\n",
    "print(\"Модель предсказала верно\", num_correct, \"раз из\", len(y_test))\n",
    "print(\"Точность модели:\", num_correct/len(y_test))"
   ]
  },
  {
   "cell_type": "markdown",
   "id": "a8d92d14-3a0d-4772-b21f-26db84b65a68",
   "metadata": {},
   "source": [
    "# Использование нейронной сети регрессии для предсказания цен на жилье в Хайдарабаде"
   ]
  },
  {
   "cell_type": "code",
   "execution_count": null,
   "id": "58762551-a2b3-4780-97e3-a58a8da39a89",
   "metadata": {},
   "outputs": [],
   "source": [
    "# Загрузка и предварительная обработка данных\n",
    "housing = pd.read_csv('data/Hyderabad.csv')  # загружаем данные из CSV-файла\n",
    "\n",
    "# Разделяем данные на признаки (features) и целевую переменную (labels)\n",
    "features = housing.drop(['Location', 'Price'], axis=1)  # удаляем столбцы 'Location' и 'Price' - оставляем только признаки\n",
    "labels = housing['Price']  # целевая переменная - цены на жилье"
   ]
  },
  {
   "cell_type": "markdown",
   "id": "07ecaddf-37de-484f-8938-30dad3b663f1",
   "metadata": {},
   "source": [
    "## Создание и обучение нейронной сети"
   ]
  },
  {
   "cell_type": "code",
   "execution_count": null,
   "id": "557d69d2-a4b9-4380-987e-ca0493c743c9",
   "metadata": {},
   "outputs": [],
   "source": [
    "# Строим модель последовательного типа (слои идут один за другим)\n",
    "model = Sequential()\n",
    "\n",
    "# Добавляем слои нейронной сети:\n",
    "\n",
    "# Первый скрытый слой с 38 нейронами (по числу входных признаков), \n",
    "# функция активации ReLU и указание формы входных данных (38 признаков)\n",
    "model.add(Dense(38, activation='relu', input_shape=(38,)))\n",
    "\n",
    "# Слой Dropout для регуляризации - случайно \"выключает\" 20% нейронов для предотвращения переобучения\n",
    "model.add(Dropout(.2))\n",
    "\n",
    "# Второй скрытый слой с 128 нейронами и ReLU активацией\n",
    "model.add(Dense(128, activation='relu'))\n",
    "\n",
    "# Еще один слой Dropout\n",
    "model.add(Dropout(.2))\n",
    "\n",
    "# Третий скрытый слой с 64 нейронами и ReLU активацией\n",
    "model.add(Dense(64, activation='relu'))\n",
    "\n",
    "# Последний слой Dropout\n",
    "model.add(Dropout(.2))\n",
    "\n",
    "# Выходной слой с 1 нейроном (регрессия - предсказываем одно число - цену)\n",
    "model.add(Dense(1))\n",
    "\n",
    "# Компиляция модели:\n",
    "# loss = 'mean_squared_error' - используем среднеквадратичную ошибку как функцию потерь\n",
    "# optimizer='adam' - используем оптимизатор Adam\n",
    "# metrics=[keras.metrics.RootMeanSquaredError()] - дополнительно отслеживаем RMSE в процессе обучения\n",
    "model.compile(loss = 'mean_squared_error', optimizer='adam', metrics=[keras.metrics.RootMeanSquaredError()])\n",
    "\n",
    "# Выводим информацию о структуре модели\n",
    "model.summary()"
   ]
  },
  {
   "cell_type": "code",
   "execution_count": null,
   "id": "ff386ca8-8bd7-4ec0-a1c5-44f6f9b0d4fe",
   "metadata": {},
   "outputs": [],
   "source": [
    "# Обучение модели:\n",
    "# features - входные данные\n",
    "# labels - целевые значения\n",
    "# epochs=10 - количество эпох обучения\n",
    "# batch_size=10 - размер батча (количество образцов для одного шага градиентного спуска)\n",
    "model.fit(features, labels, epochs=10, batch_size=10)"
   ]
  },
  {
   "cell_type": "markdown",
   "id": "e442c413-e8e3-4858-ab45-8439e1f5dd47",
   "metadata": {},
   "source": [
    "## Оценка модели и предсказания"
   ]
  },
  {
   "cell_type": "code",
   "execution_count": null,
   "id": "b974c1de-04f2-45dd-bd35-28fd499832f6",
   "metadata": {},
   "outputs": [],
   "source": [
    "# Оценка качества модели на обучающих данных (возвращает loss и метрики, указанные при компиляции)\n",
    "model.evaluate(features, labels)"
   ]
  },
  {
   "cell_type": "code",
   "execution_count": null,
   "id": "ae352016-960b-41fe-93b0-79504550e2c8",
   "metadata": {},
   "outputs": [],
   "source": [
    "# Получение предсказаний модели для всех входных данных\n",
    "predictions = model.predict(features)\n",
    "\n",
    "# Создаем DataFrame для сравнения\n",
    "comparison_df = pd.DataFrame({\n",
    "    'Истинная цена': labels,  # истинные значения\n",
    "    'Предсказанная цена': predictions.flatten(),  # предсказания (flatten() преобразует 2D массив в 1D)\n",
    "    'Разница': labels - predictions.flatten(),  # разница между истинным и предсказанным значением\n",
    "    'Относительная ошибка (%)': ((labels - predictions.flatten()) / labels) * 100  # процент ошибки\n",
    "})\n",
    "\n",
    "# Сортировка по наибольшим абсолютным ошибкам\n",
    "comparison_df['Абсолютная ошибка'] = abs(comparison_df['Разница'])\n",
    "\n",
    "# Выводим первые 10 строк для наглядности\n",
    "print(\"Сравнение истинных и предсказанных цен:\")\n",
    "display(comparison_df.sort_values('Абсолютная ошибка', ascending=False).head(20))\n",
    "\n",
    "# Дополнительно можно вывести статистику по ошибкам\n",
    "print(\"\\nСтатистика по ошибкам:\")\n",
    "print(comparison_df['Относительная ошибка (%)'].describe())"
   ]
  },
  {
   "cell_type": "code",
   "execution_count": null,
   "id": "f48f9e7f-39b4-46c7-a9de-62aced76988d",
   "metadata": {},
   "outputs": [],
   "source": [
    "plt.figure(figsize=(10, 6))\n",
    "plt.scatter(labels, predictions, alpha=0.5)\n",
    "plt.plot([labels.min(), labels.max()], [labels.min(), labels.max()], 'r--')  # линия идеального предсказания\n",
    "plt.xlabel('Истинные цены')\n",
    "plt.ylabel('Предсказанные цены')\n",
    "plt.title('Сравнение истинных и предсказанных цен')\n",
    "plt.show()"
   ]
  },
  {
   "cell_type": "code",
   "execution_count": null,
   "id": "630d80db-4349-47c7-b17c-287a46d30a3e",
   "metadata": {},
   "outputs": [],
   "source": []
  }
 ],
 "metadata": {
  "kernelspec": {
   "display_name": "Python 3 (ipykernel)",
   "language": "python",
   "name": "python3"
  },
  "language_info": {
   "codemirror_mode": {
    "name": "ipython",
    "version": 3
   },
   "file_extension": ".py",
   "mimetype": "text/x-python",
   "name": "python",
   "nbconvert_exporter": "python",
   "pygments_lexer": "ipython3",
   "version": "3.13.5"
  }
 },
 "nbformat": 4,
 "nbformat_minor": 5
}
