{
 "cells": [
  {
   "cell_type": "markdown",
   "id": "aedf3948-7c89-4f0b-8ac4-5d17b623918f",
   "metadata": {},
   "source": [
    "# Шпаргалка\n",
    "\n",
    " - Бинарный поиск работает **намного быстрее** простого.\n",
    " - Времы выполнения $O(\\log_2 n)$ быстрее $O(n)$, а с увеличением размера списка, в котором происходит поиск значения, оно становится намного быстрее.\n",
    " - Скорость алгоритмов **не** измеряется в секундах.\n",
    " - Время выполнения алгоритма описывается **ростом** количества операций.\n",
    " - Время выполнения алгоритмов выражается как \"*О*-большое\""
   ]
  },
  {
   "cell_type": "code",
   "execution_count": 1,
   "id": "3b956c3b-ae06-49cf-92b1-d13d47432d71",
   "metadata": {},
   "outputs": [],
   "source": [
    "import numpy as np\n",
    "from timeit import timeit\n",
    "import matplotlib.pyplot as plt\n",
    "from algorithms.binary_search import binary_search"
   ]
  },
  {
   "cell_type": "markdown",
   "id": "4c89c0c1-114a-4bf8-afb9-39d4b690d9b8",
   "metadata": {},
   "source": [
    "# Линейный поиск"
   ]
  },
  {
   "cell_type": "code",
   "execution_count": 2,
   "id": "aec8c0e0-d179-4f7c-87d5-3522dd5b4c2e",
   "metadata": {},
   "outputs": [],
   "source": [
    "def linear_search(arr, item):\n",
    "    \"\"\"\n",
    "    Осуществляет линейный поиск элемента в массиве.\n",
    "\n",
    "    Параметры:\n",
    "        arr (list): Массив элементов, в котором выполняется поиск.\n",
    "        item: Элемент, который необходимо найти в массиве.\n",
    "\n",
    "    Возвращает:\n",
    "        int: Индекс первого вхождения найденного элемента или -1, если элемент не найден.\n",
    "\n",
    "    Примечание:\n",
    "        Массив может быть неотсортированным, так как алгоритм проверяет все элементы по порядку.\n",
    "    \"\"\"\n",
    "    \n",
    "    # Проходим по всем элементам массива последовательно\n",
    "    for index in range(len(arr)):\n",
    "        # Если текущий элемент равен искомому\n",
    "        if arr[index] == item:\n",
    "            return index  # Возвращаем индекс найденного элемента\n",
    "    \n",
    "    # Если элемент не найден после полного прохода по массиву\n",
    "    return -999"
   ]
  },
  {
   "cell_type": "code",
   "execution_count": 3,
   "id": "6849d149-6fb8-4259-a81c-da6ab549ab56",
   "metadata": {},
   "outputs": [
    {
     "name": "stdout",
     "output_type": "stream",
     "text": [
      "  Число    |   Индекс  \n",
      "---------- | ----------\n",
      "    1      |      0\n",
      "    3      |      1\n",
      "    5      |      2\n",
      "    6      |   -999\n",
      "    7      |      3\n",
      "    8      |   -999\n",
      "    9      |      4\n",
      "    11     |      5\n",
      "    13     |      6\n"
     ]
    }
   ],
   "source": [
    "my_list = [1, 3, 5, 7, 9, 11, 13]\n",
    "\n",
    "# Заголовок таблицы\n",
    "print(f'{\"Число\":^10} | {\"Индекс\":^10}')\n",
    "print(f'{\"-\"*10} | {\"-\"*10}')\n",
    "\n",
    "# Данные таблицы\n",
    "print(f'{1:^10} | {linear_search(my_list, 1):>6}')\n",
    "print(f'{3:^10} | {linear_search(my_list, 3):>6}')\n",
    "print(f'{5:^10} | {linear_search(my_list, 5):>6}')\n",
    "print(f'{6:^10} | {linear_search(my_list, 6):>6}')\n",
    "print(f'{7:^10} | {linear_search(my_list, 7):>6}')\n",
    "print(f'{8:^10} | {linear_search(my_list, 8):>6}')\n",
    "print(f'{9:^10} | {linear_search(my_list, 9):>6}')\n",
    "print(f'{11:^10} | {linear_search(my_list, 11):>6}')\n",
    "print(f'{13:^10} | {linear_search(my_list, 13):>6}')"
   ]
  },
  {
   "cell_type": "markdown",
   "id": "e6a6f8df-c1fd-4d0d-932f-0b976d748c40",
   "metadata": {},
   "source": [
    "# Бинарный поиск"
   ]
  },
  {
   "cell_type": "code",
   "execution_count": 4,
   "id": "8602f1b3-de70-4701-912f-7c4bbcd48d37",
   "metadata": {},
   "outputs": [
    {
     "name": "stdout",
     "output_type": "stream",
     "text": [
      "  Число    |   Индекс  \n",
      "---------- | ----------\n",
      "    1      |      0\n",
      "    3      |      1\n",
      "    5      |      2\n",
      "    6      |   -999\n",
      "    7      |      3\n",
      "    8      |   -999\n",
      "    9      |      4\n",
      "    11     |      5\n",
      "    13     |      6\n"
     ]
    }
   ],
   "source": [
    "my_list = [1, 3, 5, 7, 9, 11, 13]\n",
    "\n",
    "# Заголовок таблицы\n",
    "print(f'{\"Число\":^10} | {\"Индекс\":^10}')\n",
    "print(f'{\"-\"*10} | {\"-\"*10}')\n",
    "\n",
    "# Данные таблицы\n",
    "print(f'{1:^10} | {binary_search(my_list, 1):>6}')\n",
    "print(f'{3:^10} | {binary_search(my_list, 3):>6}')\n",
    "print(f'{5:^10} | {binary_search(my_list, 5):>6}')\n",
    "print(f'{6:^10} | {binary_search(my_list, 6):>6}')\n",
    "print(f'{7:^10} | {binary_search(my_list, 7):>6}')\n",
    "print(f'{8:^10} | {binary_search(my_list, 8):>6}')\n",
    "print(f'{9:^10} | {binary_search(my_list, 9):>6}')\n",
    "print(f'{11:^10} | {binary_search(my_list, 11):>6}')\n",
    "print(f'{13:^10} | {binary_search(my_list, 13):>6}')"
   ]
  },
  {
   "cell_type": "code",
   "execution_count": null,
   "id": "094269ca-5d55-4ed9-b7f0-660e7b761b5a",
   "metadata": {},
   "outputs": [],
   "source": []
  }
 ],
 "metadata": {
  "kernelspec": {
   "display_name": "Python 3 (ipykernel)",
   "language": "python",
   "name": "python3"
  },
  "language_info": {
   "codemirror_mode": {
    "name": "ipython",
    "version": 3
   },
   "file_extension": ".py",
   "mimetype": "text/x-python",
   "name": "python",
   "nbconvert_exporter": "python",
   "pygments_lexer": "ipython3",
   "version": "3.13.5"
  }
 },
 "nbformat": 4,
 "nbformat_minor": 5
}
