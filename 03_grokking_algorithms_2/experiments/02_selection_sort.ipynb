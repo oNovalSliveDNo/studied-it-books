{
 "cells": [
  {
   "cell_type": "markdown",
   "id": "1e3063b4-6710-435f-8489-dbe8ee6b2036",
   "metadata": {},
   "source": [
    "# Шпаргалка\n",
    "\n",
    " - Память компьютера напоминает огромный шкаф с ящиками.\n",
    " - Если вам потребуется сохранить набор элементов, воспользуйтесь массивом или списком.\n",
    " - В массиве все элементы хранятся в памяти рядом друг с другом.\n",
    " - В связанном списке элементы распределяются в произвольных местах памяти, при этом в каждом элементе хранится адрес следующего элемента.\n",
    " - Массивы обеспечивают быстрое чтение.\n",
    " - Списки обеспечивают быструю вставку и удаление."
   ]
  },
  {
   "cell_type": "code",
   "execution_count": 1,
   "id": "1de9221b-26a8-477f-8dd3-dcb53b1b71e3",
   "metadata": {},
   "outputs": [],
   "source": [
    "from algorithms.selection_sort import selection_sort"
   ]
  },
  {
   "cell_type": "markdown",
   "id": "6b4419f1-b434-4f6f-8fed-ae7f63606e13",
   "metadata": {},
   "source": [
    "# Сортировка выбором"
   ]
  },
  {
   "cell_type": "code",
   "execution_count": 2,
   "id": "de188fcd-a485-41a0-9dd3-da3bb945ba5f",
   "metadata": {},
   "outputs": [
    {
     "name": "stdout",
     "output_type": "stream",
     "text": [
      "[1, 2, 2, 4, 4, 5, 6, 6, 9, 10]\n"
     ]
    }
   ],
   "source": [
    "unsorted = [6, 2, 4, 9, 1, 4, 6, 2, 5, 10]\n",
    "\n",
    "print(selection_sort(unsorted))"
   ]
  },
  {
   "cell_type": "code",
   "execution_count": null,
   "id": "fb9faae6-0420-46be-9c9e-57c13d6844d4",
   "metadata": {},
   "outputs": [],
   "source": []
  }
 ],
 "metadata": {
  "kernelspec": {
   "display_name": "Python 3 (ipykernel)",
   "language": "python",
   "name": "python3"
  },
  "language_info": {
   "codemirror_mode": {
    "name": "ipython",
    "version": 3
   },
   "file_extension": ".py",
   "mimetype": "text/x-python",
   "name": "python",
   "nbconvert_exporter": "python",
   "pygments_lexer": "ipython3",
   "version": "3.13.5"
  }
 },
 "nbformat": 4,
 "nbformat_minor": 5
}
