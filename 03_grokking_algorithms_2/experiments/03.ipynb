{
 "cells": [
  {
   "cell_type": "code",
   "execution_count": null,
   "id": "52c0de9d-09cb-4299-a2c6-cf9b487c80cd",
   "metadata": {},
   "outputs": [],
   "source": []
  },
  {
   "cell_type": "code",
   "execution_count": null,
   "id": "db548be1-1001-4421-b5d4-08d5104bbed6",
   "metadata": {},
   "outputs": [],
   "source": []
  },
  {
   "cell_type": "code",
   "execution_count": null,
   "id": "47ac9ae8-6a6e-447e-9fe9-9591c358c1b3",
   "metadata": {},
   "outputs": [],
   "source": []
  },
  {
   "cell_type": "code",
   "execution_count": null,
   "id": "3488e867-c03f-4ec1-abbc-6301bfb0740f",
   "metadata": {},
   "outputs": [],
   "source": []
  },
  {
   "cell_type": "markdown",
   "id": "8a5315dc-86da-47a7-9844-66831b0356ed",
   "metadata": {},
   "source": [
    "# Итеративный псевдокод (с использованием стека)\n",
    "\n",
    "```python\n",
    "def look_for_key(main_box):\n",
    "    \"\"\"\n",
    "    Итеративный поиск ключа в ящиках (использует стек).\n",
    "    \n",
    "    Параметры:\n",
    "        main_box: Главный ящик, в котором начинается поиск.\n",
    "    \n",
    "    Алгоритм:\n",
    "        1. Создаём стопку (стек) ящиков для проверки\n",
    "        2. Пока стопка не пуста:\n",
    "           - Берём ящик из стопки\n",
    "           - Проверяем каждый предмет в ящике:\n",
    "             * Если это ящик - добавляем в стопку для последующей проверки\n",
    "             * Если это ключ - поиск завершён\n",
    "    \"\"\"\n",
    "    \n",
    "    # Создаём стопку ящиков для проверки (стек)\n",
    "    pile = main_box.make_a_pile_to_look_through()  # Инициализация стека\n",
    "    \n",
    "    # Пока в стопке есть ящики (стек не пуст)\n",
    "    while pile is not empty:\n",
    "        \n",
    "        # Достаём последний добавленный ящик\n",
    "        box = pile.grab_a_box()\n",
    "        \n",
    "        # Проверяем каждый предмет в текущем ящике\n",
    "        for item in box:\n",
    "            \n",
    "            # Если предмет - это ящик\n",
    "            if item.is_a_box():\n",
    "                pile.append(item)  # Добавляем в стопку для последующей проверки\n",
    "            \n",
    "            # Если предмет - это ключ\n",
    "            elif item.is_a_key():\n",
    "                print('Нашли ключ!')  # Успешное завершение поиска\n",
    "                return  # Выход из функции\n",
    "```\n",
    "\n",
    "\n",
    "# Рекурсивный псевдокод\n",
    "```python\n",
    "def look_for_key(box):\n",
    "    \"\"\"\n",
    "    Рекурсивный поиск ключа в ящиках.\n",
    "    \n",
    "    Параметры:\n",
    "        box: Текущий ящик для проверки.\n",
    "    \n",
    "    Алгоритм:\n",
    "        1. Для каждого предмета в ящике:\n",
    "           - Если это ящик: вызываем себя рекурсивно для этого ящика\n",
    "           - Если это ключ: поиск завершён\n",
    "    \n",
    "    Особенность:\n",
    "        Использует рекурсию вместо стека (вызовы функции образуют стек в памяти)\n",
    "    \"\"\"\n",
    "    \n",
    "    # Проверяем каждый предмет в текущем ящике\n",
    "    for item in box:\n",
    "        \n",
    "        # Если предмет - это ящик\n",
    "        if item.is_a_box():\n",
    "            look_for_key(item)  # Рекурсивный вызов для проверки вложенного ящика\n",
    "        \n",
    "        # Если предмет - это ключ\n",
    "        elif item.is_a_key():\n",
    "            print('Нашли ключ!')  # Успешное завершение поиска\n",
    "            return  # Выход из текущего вызова функции\n",
    "```"
   ]
  },
  {
   "cell_type": "code",
   "execution_count": null,
   "id": "0996bd15-0f7b-44eb-9078-f8d81bb20a62",
   "metadata": {},
   "outputs": [],
   "source": []
  },
  {
   "cell_type": "code",
   "execution_count": null,
   "id": "b2654272-b6d0-4db5-a629-dade993c62ce",
   "metadata": {},
   "outputs": [],
   "source": []
  },
  {
   "cell_type": "code",
   "execution_count": null,
   "id": "e84aab7b-525f-4085-9329-f89030e235a3",
   "metadata": {},
   "outputs": [],
   "source": []
  },
  {
   "cell_type": "code",
   "execution_count": null,
   "id": "3bfa05c9-f341-4b77-baef-aa5ae7eb6ae6",
   "metadata": {},
   "outputs": [],
   "source": []
  },
  {
   "cell_type": "code",
   "execution_count": null,
   "id": "2bc56546-a624-4c01-aeff-88dd9f0ebb9f",
   "metadata": {},
   "outputs": [],
   "source": []
  },
  {
   "cell_type": "code",
   "execution_count": null,
   "id": "6db6f2b2-d25d-4c97-a6e7-d4cbae5a9c36",
   "metadata": {},
   "outputs": [],
   "source": []
  },
  {
   "cell_type": "code",
   "execution_count": null,
   "id": "26353ec5-f72b-48d7-9a31-1c879b63f474",
   "metadata": {},
   "outputs": [],
   "source": []
  }
 ],
 "metadata": {
  "kernelspec": {
   "display_name": "Python 3 (ipykernel)",
   "language": "python",
   "name": "python3"
  },
  "language_info": {
   "codemirror_mode": {
    "name": "ipython",
    "version": 3
   },
   "file_extension": ".py",
   "mimetype": "text/x-python",
   "name": "python",
   "nbconvert_exporter": "python",
   "pygments_lexer": "ipython3",
   "version": "3.13.5"
  }
 },
 "nbformat": 4,
 "nbformat_minor": 5
}
